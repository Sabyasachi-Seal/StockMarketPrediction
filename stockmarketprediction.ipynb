{
 "cells": [
  {
   "cell_type": "markdown",
   "metadata": {},
   "source": [
    "# The Sparks Foundation"
   ]
  },
  {
   "cell_type": "markdown",
   "metadata": {},
   "source": [
    "## Data Science and Business Analytics"
   ]
  },
  {
   "cell_type": "markdown",
   "metadata": {},
   "source": [
    "### Stock Market Prediction using Numerical and Textual Analysis - By Sabyasachi Seal"
   ]
  },
  {
   "cell_type": "markdown",
   "metadata": {},
   "source": []
  },
  {
   "cell_type": "markdown",
   "metadata": {},
   "source": [
    "## Importing the libraries"
   ]
  },
  {
   "cell_type": "code",
   "execution_count": 18,
   "metadata": {},
   "outputs": [],
   "source": [
    "from sklearn.preprocessing import MinMaxScaler\n",
    "from sklearn.metrics import mean_squared_error\n",
    "from keras.layers import Dense, LSTM\n",
    "from keras.models import Sequential\n",
    "import matplotlib.pyplot as plt\n",
    "import matplotlib.pyplot as plt\n",
    "from textblob import TextBlob\n",
    "from datetime import datetime\n",
    "from sklearn import metrics \n",
    "import pandas as pd \n",
    "import numpy as np\n",
    "import math"
   ]
  },
  {
   "cell_type": "markdown",
   "metadata": {},
   "source": [
    "## Loading and Testing Stock Market Dataset"
   ]
  },
  {
   "cell_type": "code",
   "execution_count": 19,
   "metadata": {},
   "outputs": [
    {
     "data": {
      "text/html": [
       "<div>\n",
       "<style scoped>\n",
       "    .dataframe tbody tr th:only-of-type {\n",
       "        vertical-align: middle;\n",
       "    }\n",
       "\n",
       "    .dataframe tbody tr th {\n",
       "        vertical-align: top;\n",
       "    }\n",
       "\n",
       "    .dataframe thead th {\n",
       "        text-align: right;\n",
       "    }\n",
       "</style>\n",
       "<table border=\"1\" class=\"dataframe\">\n",
       "  <thead>\n",
       "    <tr style=\"text-align: right;\">\n",
       "      <th></th>\n",
       "      <th>Date</th>\n",
       "      <th>Open</th>\n",
       "      <th>High</th>\n",
       "      <th>Low</th>\n",
       "      <th>Close</th>\n",
       "      <th>Adj Close</th>\n",
       "      <th>Volume</th>\n",
       "    </tr>\n",
       "  </thead>\n",
       "  <tbody>\n",
       "    <tr>\n",
       "      <th>0</th>\n",
       "      <td>2017-03-01</td>\n",
       "      <td>26.010000</td>\n",
       "      <td>26.379999</td>\n",
       "      <td>25.860001</td>\n",
       "      <td>25.900000</td>\n",
       "      <td>24.324486</td>\n",
       "      <td>55900</td>\n",
       "    </tr>\n",
       "    <tr>\n",
       "      <th>1</th>\n",
       "      <td>2017-03-02</td>\n",
       "      <td>25.830000</td>\n",
       "      <td>25.920000</td>\n",
       "      <td>25.660000</td>\n",
       "      <td>25.770000</td>\n",
       "      <td>24.202393</td>\n",
       "      <td>41800</td>\n",
       "    </tr>\n",
       "    <tr>\n",
       "      <th>2</th>\n",
       "      <td>2017-03-03</td>\n",
       "      <td>25.780001</td>\n",
       "      <td>26.070000</td>\n",
       "      <td>25.459999</td>\n",
       "      <td>25.780001</td>\n",
       "      <td>24.211786</td>\n",
       "      <td>70400</td>\n",
       "    </tr>\n",
       "    <tr>\n",
       "      <th>3</th>\n",
       "      <td>2017-03-06</td>\n",
       "      <td>25.680000</td>\n",
       "      <td>25.889999</td>\n",
       "      <td>25.440001</td>\n",
       "      <td>25.830000</td>\n",
       "      <td>24.258745</td>\n",
       "      <td>42600</td>\n",
       "    </tr>\n",
       "    <tr>\n",
       "      <th>4</th>\n",
       "      <td>2017-03-07</td>\n",
       "      <td>25.700001</td>\n",
       "      <td>25.879999</td>\n",
       "      <td>25.549999</td>\n",
       "      <td>25.840000</td>\n",
       "      <td>24.268139</td>\n",
       "      <td>45600</td>\n",
       "    </tr>\n",
       "  </tbody>\n",
       "</table>\n",
       "</div>"
      ],
      "text/plain": [
       "         Date       Open       High        Low      Close  Adj Close  Volume\n",
       "0  2017-03-01  26.010000  26.379999  25.860001  25.900000  24.324486   55900\n",
       "1  2017-03-02  25.830000  25.920000  25.660000  25.770000  24.202393   41800\n",
       "2  2017-03-03  25.780001  26.070000  25.459999  25.780001  24.211786   70400\n",
       "3  2017-03-06  25.680000  25.889999  25.440001  25.830000  24.258745   42600\n",
       "4  2017-03-07  25.700001  25.879999  25.549999  25.840000  24.268139   45600"
      ]
     },
     "execution_count": 19,
     "metadata": {},
     "output_type": "execute_result"
    }
   ],
   "source": [
    "df_prices = pd.read_csv('Datasets/stockprices.csv')\n",
    "df_prices.head()"
   ]
  },
  {
   "cell_type": "markdown",
   "metadata": {},
   "source": [
    "## Loading and Testing News Dataset"
   ]
  },
  {
   "cell_type": "code",
   "execution_count": 20,
   "metadata": {},
   "outputs": [
    {
     "data": {
      "text/html": [
       "<div>\n",
       "<style scoped>\n",
       "    .dataframe tbody tr th:only-of-type {\n",
       "        vertical-align: middle;\n",
       "    }\n",
       "\n",
       "    .dataframe tbody tr th {\n",
       "        vertical-align: top;\n",
       "    }\n",
       "\n",
       "    .dataframe thead th {\n",
       "        text-align: right;\n",
       "    }\n",
       "</style>\n",
       "<table border=\"1\" class=\"dataframe\">\n",
       "  <thead>\n",
       "    <tr style=\"text-align: right;\">\n",
       "      <th></th>\n",
       "      <th>Date</th>\n",
       "      <th>Category</th>\n",
       "      <th>News</th>\n",
       "    </tr>\n",
       "  </thead>\n",
       "  <tbody>\n",
       "    <tr>\n",
       "      <th>0</th>\n",
       "      <td>20010102</td>\n",
       "      <td>unknown</td>\n",
       "      <td>Status quo will not be disturbed at Ayodhya; s...</td>\n",
       "    </tr>\n",
       "    <tr>\n",
       "      <th>1</th>\n",
       "      <td>20010102</td>\n",
       "      <td>unknown</td>\n",
       "      <td>Fissures in Hurriyat over Pak visit</td>\n",
       "    </tr>\n",
       "    <tr>\n",
       "      <th>2</th>\n",
       "      <td>20010102</td>\n",
       "      <td>unknown</td>\n",
       "      <td>America's unwanted heading for India?</td>\n",
       "    </tr>\n",
       "    <tr>\n",
       "      <th>3</th>\n",
       "      <td>20010102</td>\n",
       "      <td>unknown</td>\n",
       "      <td>For bigwigs; it is destination Goa</td>\n",
       "    </tr>\n",
       "    <tr>\n",
       "      <th>4</th>\n",
       "      <td>20010102</td>\n",
       "      <td>unknown</td>\n",
       "      <td>Extra buses to clear tourist traffic</td>\n",
       "    </tr>\n",
       "    <tr>\n",
       "      <th>...</th>\n",
       "      <td>...</td>\n",
       "      <td>...</td>\n",
       "      <td>...</td>\n",
       "    </tr>\n",
       "    <tr>\n",
       "      <th>149995</th>\n",
       "      <td>20021015</td>\n",
       "      <td>india</td>\n",
       "      <td>Post polls; India cringes as Pak finds acceptance</td>\n",
       "    </tr>\n",
       "    <tr>\n",
       "      <th>149996</th>\n",
       "      <td>20021015</td>\n",
       "      <td>india</td>\n",
       "      <td>Bangladesh is al-Qaeda's new haven: Time</td>\n",
       "    </tr>\n",
       "    <tr>\n",
       "      <th>149997</th>\n",
       "      <td>20021015</td>\n",
       "      <td>india</td>\n",
       "      <td>Hawk deal not finalised yet: India to UK</td>\n",
       "    </tr>\n",
       "    <tr>\n",
       "      <th>149998</th>\n",
       "      <td>20021015</td>\n",
       "      <td>city.kolkata</td>\n",
       "      <td>A helping hand to clear clinical waste</td>\n",
       "    </tr>\n",
       "    <tr>\n",
       "      <th>149999</th>\n",
       "      <td>20021015</td>\n",
       "      <td>city.kolkata</td>\n",
       "      <td>Designer jewellery: Home-made is best</td>\n",
       "    </tr>\n",
       "  </tbody>\n",
       "</table>\n",
       "<p>150000 rows × 3 columns</p>\n",
       "</div>"
      ],
      "text/plain": [
       "            Date      Category  \\\n",
       "0       20010102       unknown   \n",
       "1       20010102       unknown   \n",
       "2       20010102       unknown   \n",
       "3       20010102       unknown   \n",
       "4       20010102       unknown   \n",
       "...          ...           ...   \n",
       "149995  20021015         india   \n",
       "149996  20021015         india   \n",
       "149997  20021015         india   \n",
       "149998  20021015  city.kolkata   \n",
       "149999  20021015  city.kolkata   \n",
       "\n",
       "                                                     News  \n",
       "0       Status quo will not be disturbed at Ayodhya; s...  \n",
       "1                     Fissures in Hurriyat over Pak visit  \n",
       "2                   America's unwanted heading for India?  \n",
       "3                      For bigwigs; it is destination Goa  \n",
       "4                    Extra buses to clear tourist traffic  \n",
       "...                                                   ...  \n",
       "149995  Post polls; India cringes as Pak finds acceptance  \n",
       "149996           Bangladesh is al-Qaeda's new haven: Time  \n",
       "149997           Hawk deal not finalised yet: India to UK  \n",
       "149998             A helping hand to clear clinical waste  \n",
       "149999              Designer jewellery: Home-made is best  \n",
       "\n",
       "[150000 rows x 3 columns]"
      ]
     },
     "execution_count": 20,
     "metadata": {},
     "output_type": "execute_result"
    }
   ],
   "source": [
    "cols = ['Date', 'Category', 'News']\n",
    "df_news = pd.read_csv(\"Datasets/news.csv\", names=cols)\n",
    "df_news = df_news.dropna(axis=0, how='any')\n",
    "df_news"
   ]
  },
  {
   "cell_type": "markdown",
   "metadata": {},
   "source": [
    "## Cleaning Data - Dropping Unwanted Values"
   ]
  },
  {
   "cell_type": "code",
   "execution_count": 24,
   "metadata": {},
   "outputs": [
    {
     "data": {
      "text/html": [
       "<div>\n",
       "<style scoped>\n",
       "    .dataframe tbody tr th:only-of-type {\n",
       "        vertical-align: middle;\n",
       "    }\n",
       "\n",
       "    .dataframe tbody tr th {\n",
       "        vertical-align: top;\n",
       "    }\n",
       "\n",
       "    .dataframe thead th {\n",
       "        text-align: right;\n",
       "    }\n",
       "</style>\n",
       "<table border=\"1\" class=\"dataframe\">\n",
       "  <thead>\n",
       "    <tr style=\"text-align: right;\">\n",
       "      <th></th>\n",
       "      <th>level_0</th>\n",
       "      <th>index</th>\n",
       "      <th>Date</th>\n",
       "      <th>Category</th>\n",
       "      <th>News</th>\n",
       "    </tr>\n",
       "  </thead>\n",
       "  <tbody>\n",
       "    <tr>\n",
       "      <th>0</th>\n",
       "      <td>0</td>\n",
       "      <td>0</td>\n",
       "      <td>20010102</td>\n",
       "      <td>unknown</td>\n",
       "      <td>Status quo will not be disturbed at Ayodhya; s...</td>\n",
       "    </tr>\n",
       "    <tr>\n",
       "      <th>1</th>\n",
       "      <td>1</td>\n",
       "      <td>86</td>\n",
       "      <td>20010103</td>\n",
       "      <td>unknown</td>\n",
       "      <td>Powerless north India gropes in the dark</td>\n",
       "    </tr>\n",
       "    <tr>\n",
       "      <th>2</th>\n",
       "      <td>2</td>\n",
       "      <td>127</td>\n",
       "      <td>20010104</td>\n",
       "      <td>unknown</td>\n",
       "      <td>The string that pulled Stephen Hawking to India</td>\n",
       "    </tr>\n",
       "    <tr>\n",
       "      <th>3</th>\n",
       "      <td>3</td>\n",
       "      <td>280</td>\n",
       "      <td>20010105</td>\n",
       "      <td>unknown</td>\n",
       "      <td>Light combat craft takes India into club class</td>\n",
       "    </tr>\n",
       "    <tr>\n",
       "      <th>4</th>\n",
       "      <td>4</td>\n",
       "      <td>406</td>\n",
       "      <td>20010106</td>\n",
       "      <td>unknown</td>\n",
       "      <td>Light combat craft takes India into club class</td>\n",
       "    </tr>\n",
       "    <tr>\n",
       "      <th>...</th>\n",
       "      <td>...</td>\n",
       "      <td>...</td>\n",
       "      <td>...</td>\n",
       "      <td>...</td>\n",
       "      <td>...</td>\n",
       "    </tr>\n",
       "    <tr>\n",
       "      <th>605</th>\n",
       "      <td>605</td>\n",
       "      <td>148794</td>\n",
       "      <td>20021011</td>\n",
       "      <td>business.india-business</td>\n",
       "      <td>Infy beats estimates; ups projection</td>\n",
       "    </tr>\n",
       "    <tr>\n",
       "      <th>606</th>\n",
       "      <td>606</td>\n",
       "      <td>149187</td>\n",
       "      <td>20021012</td>\n",
       "      <td>unknown</td>\n",
       "      <td>Tabreez set to conquer</td>\n",
       "    </tr>\n",
       "    <tr>\n",
       "      <th>607</th>\n",
       "      <td>607</td>\n",
       "      <td>149437</td>\n",
       "      <td>20021013</td>\n",
       "      <td>unknown</td>\n",
       "      <td>Note by note</td>\n",
       "    </tr>\n",
       "    <tr>\n",
       "      <th>608</th>\n",
       "      <td>608</td>\n",
       "      <td>149691</td>\n",
       "      <td>20021014</td>\n",
       "      <td>unknown</td>\n",
       "      <td>India lose to S Korea in men's hockey final</td>\n",
       "    </tr>\n",
       "    <tr>\n",
       "      <th>609</th>\n",
       "      <td>609</td>\n",
       "      <td>149942</td>\n",
       "      <td>20021015</td>\n",
       "      <td>unknown</td>\n",
       "      <td>Velappan pleased with Indian show</td>\n",
       "    </tr>\n",
       "  </tbody>\n",
       "</table>\n",
       "<p>610 rows × 5 columns</p>\n",
       "</div>"
      ],
      "text/plain": [
       "     level_0   index      Date                 Category  \\\n",
       "0          0       0  20010102                  unknown   \n",
       "1          1      86  20010103                  unknown   \n",
       "2          2     127  20010104                  unknown   \n",
       "3          3     280  20010105                  unknown   \n",
       "4          4     406  20010106                  unknown   \n",
       "..       ...     ...       ...                      ...   \n",
       "605      605  148794  20021011  business.india-business   \n",
       "606      606  149187  20021012                  unknown   \n",
       "607      607  149437  20021013                  unknown   \n",
       "608      608  149691  20021014                  unknown   \n",
       "609      609  149942  20021015                  unknown   \n",
       "\n",
       "                                                  News  \n",
       "0    Status quo will not be disturbed at Ayodhya; s...  \n",
       "1             Powerless north India gropes in the dark  \n",
       "2      The string that pulled Stephen Hawking to India  \n",
       "3       Light combat craft takes India into club class  \n",
       "4       Light combat craft takes India into club class  \n",
       "..                                                 ...  \n",
       "605               Infy beats estimates; ups projection  \n",
       "606                             Tabreez set to conquer  \n",
       "607                                       Note by note  \n",
       "608        India lose to S Korea in men's hockey final  \n",
       "609                  Velappan pleased with Indian show  \n",
       "\n",
       "[610 rows x 5 columns]"
      ]
     },
     "execution_count": 24,
     "metadata": {},
     "output_type": "execute_result"
    }
   ],
   "source": [
    "# df_news.drop(0, inplace=True)\n",
    "# df_news.drop('Category', axis=1, inplace=True)\n",
    "df_news = df_news.drop_duplicates('Date', keep='first').sort_index()\n",
    "df_news = df_news.reset_index()\n",
    "df_news"
   ]
  },
  {
   "cell_type": "markdown",
   "metadata": {},
   "source": [
    "## Storing City Data"
   ]
  },
  {
   "cell_type": "code",
   "execution_count": 30,
   "metadata": {},
   "outputs": [
    {
     "data": {
      "text/html": [
       "<div>\n",
       "<style scoped>\n",
       "    .dataframe tbody tr th:only-of-type {\n",
       "        vertical-align: middle;\n",
       "    }\n",
       "\n",
       "    .dataframe tbody tr th {\n",
       "        vertical-align: top;\n",
       "    }\n",
       "\n",
       "    .dataframe thead th {\n",
       "        text-align: right;\n",
       "    }\n",
       "</style>\n",
       "<table border=\"1\" class=\"dataframe\">\n",
       "  <thead>\n",
       "    <tr style=\"text-align: right;\">\n",
       "      <th></th>\n",
       "      <th>level_0</th>\n",
       "      <th>index</th>\n",
       "      <th>Date</th>\n",
       "      <th>Category</th>\n",
       "      <th>News</th>\n",
       "    </tr>\n",
       "  </thead>\n",
       "  <tbody>\n",
       "    <tr>\n",
       "      <th>8</th>\n",
       "      <td>8</td>\n",
       "      <td>642</td>\n",
       "      <td>20010110</td>\n",
       "      <td>city.patna</td>\n",
       "      <td>Fend for yourselves; Pande tells doctors</td>\n",
       "    </tr>\n",
       "    <tr>\n",
       "      <th>48</th>\n",
       "      <td>48</td>\n",
       "      <td>2215</td>\n",
       "      <td>20010309</td>\n",
       "      <td>city.delhi</td>\n",
       "      <td>Maneka asks govt to take back land for cow she...</td>\n",
       "    </tr>\n",
       "    <tr>\n",
       "      <th>114</th>\n",
       "      <td>114</td>\n",
       "      <td>4563</td>\n",
       "      <td>20010522</td>\n",
       "      <td>city.pune</td>\n",
       "      <td>She turned and fought</td>\n",
       "    </tr>\n",
       "    <tr>\n",
       "      <th>116</th>\n",
       "      <td>116</td>\n",
       "      <td>4693</td>\n",
       "      <td>20010527</td>\n",
       "      <td>city.bengaluru</td>\n",
       "      <td>Need to boost exports; says bank head</td>\n",
       "    </tr>\n",
       "    <tr>\n",
       "      <th>118</th>\n",
       "      <td>118</td>\n",
       "      <td>4917</td>\n",
       "      <td>20010529</td>\n",
       "      <td>city.bengaluru</td>\n",
       "      <td>US visit won't be piece of cake for Krishna</td>\n",
       "    </tr>\n",
       "    <tr>\n",
       "      <th>...</th>\n",
       "      <td>...</td>\n",
       "      <td>...</td>\n",
       "      <td>...</td>\n",
       "      <td>...</td>\n",
       "      <td>...</td>\n",
       "    </tr>\n",
       "    <tr>\n",
       "      <th>560</th>\n",
       "      <td>560</td>\n",
       "      <td>136831</td>\n",
       "      <td>20020827</td>\n",
       "      <td>city.hyderabad</td>\n",
       "      <td>Saki haunts night safari plan</td>\n",
       "    </tr>\n",
       "    <tr>\n",
       "      <th>573</th>\n",
       "      <td>573</td>\n",
       "      <td>140647</td>\n",
       "      <td>20020909</td>\n",
       "      <td>city.ahmedabad</td>\n",
       "      <td>Rs 1.33 lakh stolen from Ahmedabad post office</td>\n",
       "    </tr>\n",
       "    <tr>\n",
       "      <th>575</th>\n",
       "      <td>575</td>\n",
       "      <td>141210</td>\n",
       "      <td>20020911</td>\n",
       "      <td>city.mumbai</td>\n",
       "      <td>NGO opposes duty waiver on Sachin's Ferrari</td>\n",
       "    </tr>\n",
       "    <tr>\n",
       "      <th>586</th>\n",
       "      <td>586</td>\n",
       "      <td>143921</td>\n",
       "      <td>20020922</td>\n",
       "      <td>city.kolkata</td>\n",
       "      <td>SC asks state govt to explain custody deaths</td>\n",
       "    </tr>\n",
       "    <tr>\n",
       "      <th>603</th>\n",
       "      <td>603</td>\n",
       "      <td>148318</td>\n",
       "      <td>20021009</td>\n",
       "      <td>city.lucknow</td>\n",
       "      <td>State cabinet to be expanded on Oct 11</td>\n",
       "    </tr>\n",
       "  </tbody>\n",
       "</table>\n",
       "<p>168 rows × 5 columns</p>\n",
       "</div>"
      ],
      "text/plain": [
       "     level_0   index      Date        Category  \\\n",
       "8          8     642  20010110      city.patna   \n",
       "48        48    2215  20010309      city.delhi   \n",
       "114      114    4563  20010522       city.pune   \n",
       "116      116    4693  20010527  city.bengaluru   \n",
       "118      118    4917  20010529  city.bengaluru   \n",
       "..       ...     ...       ...             ...   \n",
       "560      560  136831  20020827  city.hyderabad   \n",
       "573      573  140647  20020909  city.ahmedabad   \n",
       "575      575  141210  20020911     city.mumbai   \n",
       "586      586  143921  20020922    city.kolkata   \n",
       "603      603  148318  20021009    city.lucknow   \n",
       "\n",
       "                                                  News  \n",
       "8             Fend for yourselves; Pande tells doctors  \n",
       "48   Maneka asks govt to take back land for cow she...  \n",
       "114                              She turned and fought  \n",
       "116              Need to boost exports; says bank head  \n",
       "118        US visit won't be piece of cake for Krishna  \n",
       "..                                                 ...  \n",
       "560                      Saki haunts night safari plan  \n",
       "573     Rs 1.33 lakh stolen from Ahmedabad post office  \n",
       "575        NGO opposes duty waiver on Sachin's Ferrari  \n",
       "586       SC asks state govt to explain custody deaths  \n",
       "603             State cabinet to be expanded on Oct 11  \n",
       "\n",
       "[168 rows x 5 columns]"
      ]
     },
     "execution_count": 30,
     "metadata": {},
     "output_type": "execute_result"
    }
   ],
   "source": [
    "city_data = df_news[df_news['Category'].str.contains('^city\\.[a-z]+$', regex=True)]\n",
    "city_data"
   ]
  },
  {
   "cell_type": "markdown",
   "metadata": {},
   "source": [
    "## Extracting City Data"
   ]
  },
  {
   "cell_type": "code",
   "execution_count": 31,
   "metadata": {},
   "outputs": [
    {
     "ename": "ValueError",
     "evalue": "cannot insert level_0, already exists",
     "output_type": "error",
     "traceback": [
      "\u001b[0;31m---------------------------------------------------------------------------\u001b[0m",
      "\u001b[0;31mValueError\u001b[0m                                Traceback (most recent call last)",
      "\u001b[1;32m/home/sabyasachiseal/Documents/StockMarketPrediction/stockmarketprediction.ipynb Cell 16'\u001b[0m in \u001b[0;36m<cell line: 5>\u001b[0;34m()\u001b[0m\n\u001b[1;32m      <a href='vscode-notebook-cell:/home/sabyasachiseal/Documents/StockMarketPrediction/stockmarketprediction.ipynb#ch0000045?line=2'>3</a>\u001b[0m city_data \u001b[39m=\u001b[39m pd\u001b[39m.\u001b[39mconcat([city_data,city_split],axis\u001b[39m=\u001b[39m\u001b[39m1\u001b[39m)\n\u001b[1;32m      <a href='vscode-notebook-cell:/home/sabyasachiseal/Documents/StockMarketPrediction/stockmarketprediction.ipynb#ch0000045?line=3'>4</a>\u001b[0m city_data\u001b[39m.\u001b[39mdrop(columns\u001b[39m=\u001b[39m[\u001b[39m'\u001b[39m\u001b[39mCategory\u001b[39m\u001b[39m'\u001b[39m],axis\u001b[39m=\u001b[39m\u001b[39m1\u001b[39m, inplace\u001b[39m=\u001b[39m\u001b[39mTrue\u001b[39;00m)\n\u001b[0;32m----> <a href='vscode-notebook-cell:/home/sabyasachiseal/Documents/StockMarketPrediction/stockmarketprediction.ipynb#ch0000045?line=4'>5</a>\u001b[0m city_data\u001b[39m.\u001b[39;49mreset_index(inplace\u001b[39m=\u001b[39;49m\u001b[39mTrue\u001b[39;49;00m)\n\u001b[1;32m      <a href='vscode-notebook-cell:/home/sabyasachiseal/Documents/StockMarketPrediction/stockmarketprediction.ipynb#ch0000045?line=5'>6</a>\u001b[0m city_data\u001b[39m.\u001b[39mdrop([\u001b[39m'\u001b[39m\u001b[39mindex\u001b[39m\u001b[39m'\u001b[39m],axis\u001b[39m=\u001b[39m\u001b[39m1\u001b[39m, inplace\u001b[39m=\u001b[39m\u001b[39mTrue\u001b[39;00m)\n\u001b[1;32m      <a href='vscode-notebook-cell:/home/sabyasachiseal/Documents/StockMarketPrediction/stockmarketprediction.ipynb#ch0000045?line=6'>7</a>\u001b[0m city_data\n",
      "File \u001b[0;32m~/.local/lib/python3.8/site-packages/pandas/util/_decorators.py:311\u001b[0m, in \u001b[0;36mdeprecate_nonkeyword_arguments.<locals>.decorate.<locals>.wrapper\u001b[0;34m(*args, **kwargs)\u001b[0m\n\u001b[1;32m    <a href='file:///home/sabyasachiseal/.local/lib/python3.8/site-packages/pandas/util/_decorators.py?line=304'>305</a>\u001b[0m \u001b[39mif\u001b[39;00m \u001b[39mlen\u001b[39m(args) \u001b[39m>\u001b[39m num_allow_args:\n\u001b[1;32m    <a href='file:///home/sabyasachiseal/.local/lib/python3.8/site-packages/pandas/util/_decorators.py?line=305'>306</a>\u001b[0m     warnings\u001b[39m.\u001b[39mwarn(\n\u001b[1;32m    <a href='file:///home/sabyasachiseal/.local/lib/python3.8/site-packages/pandas/util/_decorators.py?line=306'>307</a>\u001b[0m         msg\u001b[39m.\u001b[39mformat(arguments\u001b[39m=\u001b[39marguments),\n\u001b[1;32m    <a href='file:///home/sabyasachiseal/.local/lib/python3.8/site-packages/pandas/util/_decorators.py?line=307'>308</a>\u001b[0m         \u001b[39mFutureWarning\u001b[39;00m,\n\u001b[1;32m    <a href='file:///home/sabyasachiseal/.local/lib/python3.8/site-packages/pandas/util/_decorators.py?line=308'>309</a>\u001b[0m         stacklevel\u001b[39m=\u001b[39mstacklevel,\n\u001b[1;32m    <a href='file:///home/sabyasachiseal/.local/lib/python3.8/site-packages/pandas/util/_decorators.py?line=309'>310</a>\u001b[0m     )\n\u001b[0;32m--> <a href='file:///home/sabyasachiseal/.local/lib/python3.8/site-packages/pandas/util/_decorators.py?line=310'>311</a>\u001b[0m \u001b[39mreturn\u001b[39;00m func(\u001b[39m*\u001b[39;49margs, \u001b[39m*\u001b[39;49m\u001b[39m*\u001b[39;49mkwargs)\n",
      "File \u001b[0;32m~/.local/lib/python3.8/site-packages/pandas/core/frame.py:5833\u001b[0m, in \u001b[0;36mDataFrame.reset_index\u001b[0;34m(self, level, drop, inplace, col_level, col_fill)\u001b[0m\n\u001b[1;32m   <a href='file:///home/sabyasachiseal/.local/lib/python3.8/site-packages/pandas/core/frame.py?line=5826'>5827</a>\u001b[0m         \u001b[39mif\u001b[39;00m lab \u001b[39mis\u001b[39;00m \u001b[39mnot\u001b[39;00m \u001b[39mNone\u001b[39;00m:\n\u001b[1;32m   <a href='file:///home/sabyasachiseal/.local/lib/python3.8/site-packages/pandas/core/frame.py?line=5827'>5828</a>\u001b[0m             \u001b[39m# if we have the codes, extract the values with a mask\u001b[39;00m\n\u001b[1;32m   <a href='file:///home/sabyasachiseal/.local/lib/python3.8/site-packages/pandas/core/frame.py?line=5828'>5829</a>\u001b[0m             level_values \u001b[39m=\u001b[39m algorithms\u001b[39m.\u001b[39mtake(\n\u001b[1;32m   <a href='file:///home/sabyasachiseal/.local/lib/python3.8/site-packages/pandas/core/frame.py?line=5829'>5830</a>\u001b[0m                 level_values, lab, allow_fill\u001b[39m=\u001b[39m\u001b[39mTrue\u001b[39;00m, fill_value\u001b[39m=\u001b[39mlev\u001b[39m.\u001b[39m_na_value\n\u001b[1;32m   <a href='file:///home/sabyasachiseal/.local/lib/python3.8/site-packages/pandas/core/frame.py?line=5830'>5831</a>\u001b[0m             )\n\u001b[0;32m-> <a href='file:///home/sabyasachiseal/.local/lib/python3.8/site-packages/pandas/core/frame.py?line=5832'>5833</a>\u001b[0m         new_obj\u001b[39m.\u001b[39;49minsert(\u001b[39m0\u001b[39;49m, name, level_values)\n\u001b[1;32m   <a href='file:///home/sabyasachiseal/.local/lib/python3.8/site-packages/pandas/core/frame.py?line=5834'>5835</a>\u001b[0m new_obj\u001b[39m.\u001b[39mindex \u001b[39m=\u001b[39m new_index\n\u001b[1;32m   <a href='file:///home/sabyasachiseal/.local/lib/python3.8/site-packages/pandas/core/frame.py?line=5835'>5836</a>\u001b[0m \u001b[39mif\u001b[39;00m \u001b[39mnot\u001b[39;00m inplace:\n",
      "File \u001b[0;32m~/.local/lib/python3.8/site-packages/pandas/core/frame.py:4434\u001b[0m, in \u001b[0;36mDataFrame.insert\u001b[0;34m(self, loc, column, value, allow_duplicates)\u001b[0m\n\u001b[1;32m   <a href='file:///home/sabyasachiseal/.local/lib/python3.8/site-packages/pandas/core/frame.py?line=4427'>4428</a>\u001b[0m     \u001b[39mraise\u001b[39;00m \u001b[39mValueError\u001b[39;00m(\n\u001b[1;32m   <a href='file:///home/sabyasachiseal/.local/lib/python3.8/site-packages/pandas/core/frame.py?line=4428'>4429</a>\u001b[0m         \u001b[39m\"\u001b[39m\u001b[39mCannot specify \u001b[39m\u001b[39m'\u001b[39m\u001b[39mallow_duplicates=True\u001b[39m\u001b[39m'\u001b[39m\u001b[39m when \u001b[39m\u001b[39m\"\u001b[39m\n\u001b[1;32m   <a href='file:///home/sabyasachiseal/.local/lib/python3.8/site-packages/pandas/core/frame.py?line=4429'>4430</a>\u001b[0m         \u001b[39m\"\u001b[39m\u001b[39m'\u001b[39m\u001b[39mself.flags.allows_duplicate_labels\u001b[39m\u001b[39m'\u001b[39m\u001b[39m is False.\u001b[39m\u001b[39m\"\u001b[39m\n\u001b[1;32m   <a href='file:///home/sabyasachiseal/.local/lib/python3.8/site-packages/pandas/core/frame.py?line=4430'>4431</a>\u001b[0m     )\n\u001b[1;32m   <a href='file:///home/sabyasachiseal/.local/lib/python3.8/site-packages/pandas/core/frame.py?line=4431'>4432</a>\u001b[0m \u001b[39mif\u001b[39;00m \u001b[39mnot\u001b[39;00m allow_duplicates \u001b[39mand\u001b[39;00m column \u001b[39min\u001b[39;00m \u001b[39mself\u001b[39m\u001b[39m.\u001b[39mcolumns:\n\u001b[1;32m   <a href='file:///home/sabyasachiseal/.local/lib/python3.8/site-packages/pandas/core/frame.py?line=4432'>4433</a>\u001b[0m     \u001b[39m# Should this be a different kind of error??\u001b[39;00m\n\u001b[0;32m-> <a href='file:///home/sabyasachiseal/.local/lib/python3.8/site-packages/pandas/core/frame.py?line=4433'>4434</a>\u001b[0m     \u001b[39mraise\u001b[39;00m \u001b[39mValueError\u001b[39;00m(\u001b[39mf\u001b[39m\u001b[39m\"\u001b[39m\u001b[39mcannot insert \u001b[39m\u001b[39m{\u001b[39;00mcolumn\u001b[39m}\u001b[39;00m\u001b[39m, already exists\u001b[39m\u001b[39m\"\u001b[39m)\n\u001b[1;32m   <a href='file:///home/sabyasachiseal/.local/lib/python3.8/site-packages/pandas/core/frame.py?line=4434'>4435</a>\u001b[0m \u001b[39mif\u001b[39;00m \u001b[39mnot\u001b[39;00m \u001b[39misinstance\u001b[39m(loc, \u001b[39mint\u001b[39m):\n\u001b[1;32m   <a href='file:///home/sabyasachiseal/.local/lib/python3.8/site-packages/pandas/core/frame.py?line=4435'>4436</a>\u001b[0m     \u001b[39mraise\u001b[39;00m \u001b[39mTypeError\u001b[39;00m(\u001b[39m\"\u001b[39m\u001b[39mloc must be int\u001b[39m\u001b[39m\"\u001b[39m)\n",
      "\u001b[0;31mValueError\u001b[0m: cannot insert level_0, already exists"
     ]
    }
   ],
   "source": [
    "city_split = pd.DataFrame(columns=['City_Name'])\n",
    "city_split['City_Name'] = city_data.Category.str.split('.',expand=True)[1]\n",
    "city_data = pd.concat([city_data,city_split],axis=1)\n",
    "city_data.drop(columns=['Category'],axis=1, inplace=True)\n",
    "city_data.reset_index(inplace=True)\n",
    "city_data.drop(['index'],axis=1, inplace=True)\n",
    "city_data"
   ]
  },
  {
   "cell_type": "markdown",
   "metadata": {},
   "source": [
    "## Preprocessing - Coneverting the 'Date' columns to Datetime"
   ]
  },
  {
   "cell_type": "code",
   "execution_count": null,
   "metadata": {},
   "outputs": [
    {
     "data": {
      "text/html": [
       "<div>\n",
       "<style scoped>\n",
       "    .dataframe tbody tr th:only-of-type {\n",
       "        vertical-align: middle;\n",
       "    }\n",
       "\n",
       "    .dataframe tbody tr th {\n",
       "        vertical-align: top;\n",
       "    }\n",
       "\n",
       "    .dataframe thead th {\n",
       "        text-align: right;\n",
       "    }\n",
       "</style>\n",
       "<table border=\"1\" class=\"dataframe\">\n",
       "  <thead>\n",
       "    <tr style=\"text-align: right;\">\n",
       "      <th></th>\n",
       "      <th>Date</th>\n",
       "      <th>Open</th>\n",
       "      <th>High</th>\n",
       "      <th>Low</th>\n",
       "      <th>Close</th>\n",
       "      <th>Adj Close</th>\n",
       "      <th>Volume</th>\n",
       "    </tr>\n",
       "  </thead>\n",
       "  <tbody>\n",
       "    <tr>\n",
       "      <th>0</th>\n",
       "      <td>2017-03-01</td>\n",
       "      <td>26.010000</td>\n",
       "      <td>26.379999</td>\n",
       "      <td>25.860001</td>\n",
       "      <td>25.900000</td>\n",
       "      <td>24.324486</td>\n",
       "      <td>55900</td>\n",
       "    </tr>\n",
       "    <tr>\n",
       "      <th>1</th>\n",
       "      <td>2017-03-02</td>\n",
       "      <td>25.830000</td>\n",
       "      <td>25.920000</td>\n",
       "      <td>25.660000</td>\n",
       "      <td>25.770000</td>\n",
       "      <td>24.202393</td>\n",
       "      <td>41800</td>\n",
       "    </tr>\n",
       "    <tr>\n",
       "      <th>2</th>\n",
       "      <td>2017-03-03</td>\n",
       "      <td>25.780001</td>\n",
       "      <td>26.070000</td>\n",
       "      <td>25.459999</td>\n",
       "      <td>25.780001</td>\n",
       "      <td>24.211786</td>\n",
       "      <td>70400</td>\n",
       "    </tr>\n",
       "    <tr>\n",
       "      <th>3</th>\n",
       "      <td>2017-03-06</td>\n",
       "      <td>25.680000</td>\n",
       "      <td>25.889999</td>\n",
       "      <td>25.440001</td>\n",
       "      <td>25.830000</td>\n",
       "      <td>24.258745</td>\n",
       "      <td>42600</td>\n",
       "    </tr>\n",
       "    <tr>\n",
       "      <th>4</th>\n",
       "      <td>2017-03-07</td>\n",
       "      <td>25.700001</td>\n",
       "      <td>25.879999</td>\n",
       "      <td>25.549999</td>\n",
       "      <td>25.840000</td>\n",
       "      <td>24.268139</td>\n",
       "      <td>45600</td>\n",
       "    </tr>\n",
       "    <tr>\n",
       "      <th>...</th>\n",
       "      <td>...</td>\n",
       "      <td>...</td>\n",
       "      <td>...</td>\n",
       "      <td>...</td>\n",
       "      <td>...</td>\n",
       "      <td>...</td>\n",
       "      <td>...</td>\n",
       "    </tr>\n",
       "    <tr>\n",
       "      <th>1253</th>\n",
       "      <td>2022-02-18</td>\n",
       "      <td>49.080002</td>\n",
       "      <td>49.950001</td>\n",
       "      <td>48.669998</td>\n",
       "      <td>49.500000</td>\n",
       "      <td>49.500000</td>\n",
       "      <td>130500</td>\n",
       "    </tr>\n",
       "    <tr>\n",
       "      <th>1254</th>\n",
       "      <td>2022-02-22</td>\n",
       "      <td>49.080002</td>\n",
       "      <td>50.540001</td>\n",
       "      <td>48.970001</td>\n",
       "      <td>49.490002</td>\n",
       "      <td>49.490002</td>\n",
       "      <td>107200</td>\n",
       "    </tr>\n",
       "    <tr>\n",
       "      <th>1255</th>\n",
       "      <td>2022-02-23</td>\n",
       "      <td>50.099998</td>\n",
       "      <td>50.320000</td>\n",
       "      <td>49.049999</td>\n",
       "      <td>49.480000</td>\n",
       "      <td>49.480000</td>\n",
       "      <td>125300</td>\n",
       "    </tr>\n",
       "    <tr>\n",
       "      <th>1256</th>\n",
       "      <td>2022-02-24</td>\n",
       "      <td>48.349998</td>\n",
       "      <td>49.709999</td>\n",
       "      <td>47.070000</td>\n",
       "      <td>48.980000</td>\n",
       "      <td>48.980000</td>\n",
       "      <td>189600</td>\n",
       "    </tr>\n",
       "    <tr>\n",
       "      <th>1257</th>\n",
       "      <td>2022-02-25</td>\n",
       "      <td>49.310001</td>\n",
       "      <td>50.369999</td>\n",
       "      <td>47.529999</td>\n",
       "      <td>50.340000</td>\n",
       "      <td>50.340000</td>\n",
       "      <td>136900</td>\n",
       "    </tr>\n",
       "  </tbody>\n",
       "</table>\n",
       "<p>1258 rows × 7 columns</p>\n",
       "</div>"
      ],
      "text/plain": [
       "           Date       Open       High        Low      Close  Adj Close  Volume\n",
       "0    2017-03-01  26.010000  26.379999  25.860001  25.900000  24.324486   55900\n",
       "1    2017-03-02  25.830000  25.920000  25.660000  25.770000  24.202393   41800\n",
       "2    2017-03-03  25.780001  26.070000  25.459999  25.780001  24.211786   70400\n",
       "3    2017-03-06  25.680000  25.889999  25.440001  25.830000  24.258745   42600\n",
       "4    2017-03-07  25.700001  25.879999  25.549999  25.840000  24.268139   45600\n",
       "...         ...        ...        ...        ...        ...        ...     ...\n",
       "1253 2022-02-18  49.080002  49.950001  48.669998  49.500000  49.500000  130500\n",
       "1254 2022-02-22  49.080002  50.540001  48.970001  49.490002  49.490002  107200\n",
       "1255 2022-02-23  50.099998  50.320000  49.049999  49.480000  49.480000  125300\n",
       "1256 2022-02-24  48.349998  49.709999  47.070000  48.980000  48.980000  189600\n",
       "1257 2022-02-25  49.310001  50.369999  47.529999  50.340000  50.340000  136900\n",
       "\n",
       "[1258 rows x 7 columns]"
      ]
     },
     "execution_count": 7,
     "metadata": {},
     "output_type": "execute_result"
    }
   ],
   "source": [
    "df_news['Date'] = pd.to_datetime(df_news['Date'], format='%Y%m%d')\n",
    "df_prices['Date'] = pd.to_datetime(df_prices.Date, format='%Y-%m-%d')\n",
    "df_prices"
   ]
  },
  {
   "cell_type": "markdown",
   "metadata": {},
   "source": [
    "## Plotting the Data "
   ]
  },
  {
   "cell_type": "code",
   "execution_count": null,
   "metadata": {},
   "outputs": [
    {
     "data": {
      "text/plain": [
       "[<matplotlib.lines.Line2D at 0x7f9188f555b0>]"
      ]
     },
     "execution_count": 8,
     "metadata": {},
     "output_type": "execute_result"
    },
    {
     "data": {
      "image/png": "[encoded data removed]",
      "text/plain": [
       "<Figure size 1152x576 with 1 Axes>"
      ]
     },
     "metadata": {
      "needs_background": "light"
     },
     "output_type": "display_data"
    }
   ],
   "source": [
    "plt.figure(figsize=(16,8))\n",
    "plt.title('Close Price history\\n')\n",
    "plt.xlabel('Time (Year)')\n",
    "plt.ylabel('Close Price')\n",
    "plt.plot(df_prices['Close'])"
   ]
  },
  {
   "cell_type": "markdown",
   "metadata": {},
   "source": [
    "## Storing Closing Stock"
   ]
  },
  {
   "cell_type": "code",
   "execution_count": null,
   "metadata": {},
   "outputs": [],
   "source": [
    "def new_dataset(df_prices2, look_back=1):\n",
    "    dataX, dataY = [], []\n",
    "    for i in range(len(df_prices2)-look_back):\n",
    "        a = df_prices2[i:(i+look_back), 0]\n",
    "        dataX.append(a)\n",
    "        dataY.append(df_prices2[i + look_back, 0])\n",
    "    return np.array(dataX), np.array(dataY)\n",
    "\n",
    "df2 = pd.read_csv('Datasets/stockprices.csv', usecols=[5], engine='python')\n",
    "df2.dropna(inplace=True)\n",
    "df2 = df2.values\n",
    "df2 = df2.astype('float32')"
   ]
  },
  {
   "cell_type": "markdown",
   "metadata": {},
   "source": [
    "## Data Normalization"
   ]
  },
  {
   "cell_type": "code",
   "execution_count": null,
   "metadata": {},
   "outputs": [],
   "source": [
    "scaler = MinMaxScaler(feature_range=(0, 1))\n",
    "df2 = scaler.fit_transform(df2)\n",
    "\n",
    "train_size = int(len(df2) * 0.80)\n",
    "test_size = len(df2) - train_size\n",
    "train, test = df2[0:train_size,:], df2[train_size:len(df2),:]\n",
    "\n",
    "look_back = 2\n",
    "trainX, trainY = new_dataset(train, look_back)\n",
    "testX, testY = new_dataset(test, look_back)\n",
    "\n",
    "trainX = np.reshape(trainX, (trainX.shape[0], trainX.shape[1], 1))\n",
    "testX = np.reshape(testX, (testX.shape[0], testX.shape[1], 1))"
   ]
  },
  {
   "cell_type": "markdown",
   "metadata": {},
   "source": [
    "## LSTM Neural Network Model for Numerical Analysis"
   ]
  },
  {
   "cell_type": "code",
   "execution_count": null,
   "metadata": {},
   "outputs": [
    {
     "name": "stderr",
     "output_type": "stream",
     "text": [
      "2022-03-05 13:40:06.194905: I tensorflow/stream_executor/cuda/cuda_gpu_executor.cc:936] successful NUMA node read from SysFS had negative value (-1), but there must be at least one NUMA node, so returning NUMA node zero\n",
      "2022-03-05 13:40:06.195215: W tensorflow/stream_executor/platform/default/dso_loader.cc:64] Could not load dynamic library 'libcudart.so.11.0'; dlerror: libcudart.so.11.0: cannot open shared object file: No such file or directory\n",
      "2022-03-05 13:40:06.195313: W tensorflow/stream_executor/platform/default/dso_loader.cc:64] Could not load dynamic library 'libcublas.so.11'; dlerror: libcublas.so.11: cannot open shared object file: No such file or directory\n",
      "2022-03-05 13:40:06.195400: W tensorflow/stream_executor/platform/default/dso_loader.cc:64] Could not load dynamic library 'libcublasLt.so.11'; dlerror: libcublasLt.so.11: cannot open shared object file: No such file or directory\n",
      "2022-03-05 13:40:06.195485: W tensorflow/stream_executor/platform/default/dso_loader.cc:64] Could not load dynamic library 'libcufft.so.10'; dlerror: libcufft.so.10: cannot open shared object file: No such file or directory\n",
      "2022-03-05 13:40:06.195571: W tensorflow/stream_executor/platform/default/dso_loader.cc:64] Could not load dynamic library 'libcurand.so.10'; dlerror: libcurand.so.10: cannot open shared object file: No such file or directory\n",
      "2022-03-05 13:40:06.195656: W tensorflow/stream_executor/platform/default/dso_loader.cc:64] Could not load dynamic library 'libcusolver.so.11'; dlerror: libcusolver.so.11: cannot open shared object file: No such file or directory\n",
      "2022-03-05 13:40:06.195741: W tensorflow/stream_executor/platform/default/dso_loader.cc:64] Could not load dynamic library 'libcusparse.so.11'; dlerror: libcusparse.so.11: cannot open shared object file: No such file or directory\n",
      "2022-03-05 13:40:06.195826: W tensorflow/stream_executor/platform/default/dso_loader.cc:64] Could not load dynamic library 'libcudnn.so.8'; dlerror: libcudnn.so.8: cannot open shared object file: No such file or directory\n",
      "2022-03-05 13:40:06.195842: W tensorflow/core/common_runtime/gpu/gpu_device.cc:1850] Cannot dlopen some GPU libraries. Please make sure the missing libraries mentioned above are installed properly if you would like to use GPU. Follow the guide at https://www.tensorflow.org/install/gpu for how to download and setup the required libraries for your platform.\n",
      "Skipping registering GPU devices...\n",
      "2022-03-05 13:40:06.196156: I tensorflow/core/platform/cpu_feature_guard.cc:151] This TensorFlow binary is optimized with oneAPI Deep Neural Network Library (oneDNN) to use the following CPU instructions in performance-critical operations:  AVX2 FMA\n",
      "To enable them in other operations, rebuild TensorFlow with the appropriate compiler flags.\n"
     ]
    },
    {
     "name": "stdout",
     "output_type": "stream",
     "text": [
      "Epoch 1/10\n",
      "101/101 - 1s - loss: 0.0055 - 1s/epoch - 14ms/step\n",
      "Epoch 2/10\n",
      "101/101 - 0s - loss: 0.0019 - 136ms/epoch - 1ms/step\n",
      "Epoch 3/10\n",
      "101/101 - 0s - loss: 9.4289e-04 - 134ms/epoch - 1ms/step\n",
      "Epoch 4/10\n",
      "101/101 - 0s - loss: 3.5793e-04 - 142ms/epoch - 1ms/step\n",
      "Epoch 5/10\n",
      "101/101 - 0s - loss: 1.5170e-04 - 141ms/epoch - 1ms/step\n",
      "Epoch 6/10\n",
      "101/101 - 0s - loss: 1.2057e-04 - 135ms/epoch - 1ms/step\n",
      "Epoch 7/10\n",
      "101/101 - 0s - loss: 1.1863e-04 - 135ms/epoch - 1ms/step\n",
      "Epoch 8/10\n",
      "101/101 - 0s - loss: 1.1870e-04 - 134ms/epoch - 1ms/step\n",
      "Epoch 9/10\n",
      "101/101 - 0s - loss: 1.2163e-04 - 139ms/epoch - 1ms/step\n",
      "Epoch 10/10\n",
      "101/101 - 0s - loss: 1.1743e-04 - 137ms/epoch - 1ms/step\n"
     ]
    },
    {
     "data": {
      "text/plain": [
       "<keras.callbacks.History at 0x7f918841e340>"
      ]
     },
     "execution_count": 11,
     "metadata": {},
     "output_type": "execute_result"
    }
   ],
   "source": [
    "model = Sequential()\n",
    "model.add(LSTM(7, input_shape=(look_back, 1)))\n",
    "model.add(Dense(1))\n",
    "model.compile(loss='mean_squared_error', optimizer='adam')\n",
    "model.fit(trainX, trainY, epochs=10, batch_size=10, verbose=2)"
   ]
  },
  {
   "cell_type": "markdown",
   "metadata": {},
   "source": []
  },
  {
   "cell_type": "markdown",
   "metadata": {},
   "source": [
    "### The Model is now ready to make predictions."
   ]
  },
  {
   "cell_type": "markdown",
   "metadata": {},
   "source": [
    "## Making Predictions."
   ]
  },
  {
   "cell_type": "code",
   "execution_count": null,
   "metadata": {},
   "outputs": [],
   "source": [
    "trainPredict = model.predict(trainX)\n",
    "testPredict = model.predict(testX)\n",
    "\n",
    "trainPredict = scaler.inverse_transform(trainPredict)\n",
    "trainY = scaler.inverse_transform([trainY])\n",
    "testPredict = scaler.inverse_transform(testPredict)\n",
    "testY = scaler.inverse_transform([testY])"
   ]
  },
  {
   "cell_type": "markdown",
   "metadata": {},
   "source": []
  },
  {
   "cell_type": "markdown",
   "metadata": {},
   "source": [
    "### We Need to Plot the Predictions."
   ]
  },
  {
   "cell_type": "markdown",
   "metadata": {},
   "source": [
    "## Shifting Train Predictions."
   ]
  },
  {
   "cell_type": "code",
   "execution_count": null,
   "metadata": {},
   "outputs": [],
   "source": [
    "trainPredictPlot = np.empty_like(df2)\n",
    "trainPredictPlot[:, :] = np.nan\n",
    "trainPredictPlot[look_back:len(trainPredict)+look_back, :] = trainPredict"
   ]
  },
  {
   "cell_type": "markdown",
   "metadata": {},
   "source": [
    "## Shifting Test Predictions."
   ]
  },
  {
   "cell_type": "code",
   "execution_count": null,
   "metadata": {},
   "outputs": [],
   "source": [
    "testPredictPlot = np.empty_like(df2)\n",
    "testPredictPlot[:, :] = np.nan\n",
    "testPredictPlot[len(trainPredict)+(look_back*2):len(df2), :] = testPredict"
   ]
  },
  {
   "cell_type": "markdown",
   "metadata": {},
   "source": [
    "## Plotting the Data"
   ]
  },
  {
   "cell_type": "code",
   "execution_count": null,
   "metadata": {},
   "outputs": [
    {
     "data": {
      "image/png": "[encoded data removed]",
      "text/plain": [
       "<Figure size 1152x576 with 1 Axes>"
      ]
     },
     "metadata": {
      "needs_background": "light"
     },
     "output_type": "display_data"
    }
   ],
   "source": [
    "plt.figure(figsize=(16,8))\n",
    "plt.plot(scaler.inverse_transform(df2), label = 'Actual Data')\n",
    "plt.title('BSE Stock Price Prediction from last 5 years Data')\n",
    "plt.xlabel('Time')\n",
    "plt.ylabel('Actual Stock Price')\n",
    "plt.plot(trainPredictPlot,color='#DE3163', label = 'Train Predicted Data')\n",
    "plt.plot(testPredictPlot, color='#29c714', label = 'Test Predicted Data')\n",
    "plt.legend(loc='best')\n",
    "plt.show()"
   ]
  },
  {
   "cell_type": "markdown",
   "metadata": {},
   "source": [
    "## Root Mean Square Error"
   ]
  },
  {
   "cell_type": "code",
   "execution_count": null,
   "metadata": {},
   "outputs": [
    {
     "name": "stdout",
     "output_type": "stream",
     "text": [
      "Training  =  0.57433418275642  RMSE\n",
      "Testing =  1.6688784901006168  RMSE\n"
     ]
    }
   ],
   "source": [
    "trainScore = math.sqrt(mean_squared_error(trainY[0], trainPredict[:,0]))\n",
    "print(\"Training  = \",trainScore,\" RMSE\")\n",
    "testScore = math.sqrt(mean_squared_error(testY[0], testPredict[:,0]))\n",
    "print(\"Testing = \",testScore,\" RMSE\")"
   ]
  },
  {
   "cell_type": "markdown",
   "metadata": {},
   "source": []
  },
  {
   "cell_type": "markdown",
   "metadata": {},
   "source": [
    "# Textual Analysis"
   ]
  },
  {
   "cell_type": "markdown",
   "metadata": {},
   "source": []
  },
  {
   "cell_type": "markdown",
   "metadata": {},
   "source": []
  },
  {
   "cell_type": "code",
   "execution_count": null,
   "metadata": {},
   "outputs": [
    {
     "data": {
      "text/html": [
       "<div>\n",
       "<style scoped>\n",
       "    .dataframe tbody tr th:only-of-type {\n",
       "        vertical-align: middle;\n",
       "    }\n",
       "\n",
       "    .dataframe tbody tr th {\n",
       "        vertical-align: top;\n",
       "    }\n",
       "\n",
       "    .dataframe thead th {\n",
       "        text-align: right;\n",
       "    }\n",
       "</style>\n",
       "<table border=\"1\" class=\"dataframe\">\n",
       "  <thead>\n",
       "    <tr style=\"text-align: right;\">\n",
       "      <th></th>\n",
       "      <th>index</th>\n",
       "      <th>Date</th>\n",
       "      <th>Category</th>\n",
       "      <th>News</th>\n",
       "    </tr>\n",
       "  </thead>\n",
       "  <tbody>\n",
       "    <tr>\n",
       "      <th>0</th>\n",
       "      <td>0</td>\n",
       "      <td>2001-01-02</td>\n",
       "      <td>unknown</td>\n",
       "      <td>Status quo will not be disturbed at Ayodhya; s...</td>\n",
       "    </tr>\n",
       "    <tr>\n",
       "      <th>1</th>\n",
       "      <td>86</td>\n",
       "      <td>2001-01-03</td>\n",
       "      <td>unknown</td>\n",
       "      <td>Powerless north India gropes in the dark</td>\n",
       "    </tr>\n",
       "    <tr>\n",
       "      <th>2</th>\n",
       "      <td>127</td>\n",
       "      <td>2001-01-04</td>\n",
       "      <td>unknown</td>\n",
       "      <td>The string that pulled Stephen Hawking to India</td>\n",
       "    </tr>\n",
       "    <tr>\n",
       "      <th>3</th>\n",
       "      <td>280</td>\n",
       "      <td>2001-01-05</td>\n",
       "      <td>unknown</td>\n",
       "      <td>Light combat craft takes India into club class</td>\n",
       "    </tr>\n",
       "    <tr>\n",
       "      <th>4</th>\n",
       "      <td>406</td>\n",
       "      <td>2001-01-06</td>\n",
       "      <td>unknown</td>\n",
       "      <td>Light combat craft takes India into club class</td>\n",
       "    </tr>\n",
       "  </tbody>\n",
       "</table>\n",
       "</div>"
      ],
      "text/plain": [
       "   index       Date Category  \\\n",
       "0      0 2001-01-02  unknown   \n",
       "1     86 2001-01-03  unknown   \n",
       "2    127 2001-01-04  unknown   \n",
       "3    280 2001-01-05  unknown   \n",
       "4    406 2001-01-06  unknown   \n",
       "\n",
       "                                                News  \n",
       "0  Status quo will not be disturbed at Ayodhya; s...  \n",
       "1           Powerless north India gropes in the dark  \n",
       "2    The string that pulled Stephen Hawking to India  \n",
       "3     Light combat craft takes India into club class  \n",
       "4     Light combat craft takes India into club class  "
      ]
     },
     "execution_count": 17,
     "metadata": {},
     "output_type": "execute_result"
    }
   ],
   "source": [
    "df_news.head()"
   ]
  }
 ],
 "metadata": {
  "interpreter": {
   "hash": "38d51dd8e8d25c2b4859ddf5fde4d8615b38902fd48d30a19bf46ddb81d406a6"
  },
  "kernelspec": {
   "display_name": "Python 3.9.10 64-bit (windows store)",
   "language": "python",
   "name": "python3"
  },
  "language_info": {
   "codemirror_mode": {
    "name": "ipython",
    "version": 3
   },
   "file_extension": ".py",
   "mimetype": "text/x-python",
   "name": "python",
   "nbconvert_exporter": "python",
   "pygments_lexer": "ipython3",
   "version": "3.8.10"
  },
  "orig_nbformat": 4
 },
 "nbformat": 4,
 "nbformat_minor": 2
}
