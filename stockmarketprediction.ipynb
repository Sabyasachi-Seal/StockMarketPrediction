{
 "cells": [
  {
   "cell_type": "markdown",
   "metadata": {},
   "source": [
    "# The Sparks Foundation"
   ]
  },
  {
   "cell_type": "markdown",
   "metadata": {},
   "source": [
    "## Data Science and Business Analytics"
   ]
  },
  {
   "cell_type": "markdown",
   "metadata": {},
   "source": [
    "### Stock Market Prediction using Numerical and Textual Analysis - By Sabyasachi Seal"
   ]
  },
  {
   "cell_type": "markdown",
   "metadata": {},
   "source": [
    "<hr>"
   ]
  },
  {
   "cell_type": "markdown",
   "metadata": {},
   "source": [
    "## Importing the libraries"
   ]
  },
  {
   "cell_type": "code",
   "execution_count": 108,
   "metadata": {},
   "outputs": [],
   "source": [
    "from sklearn.discriminant_analysis import LinearDiscriminantAnalysis\n",
    "from vaderSentiment.vaderSentiment import SentimentIntensityAnalyzer\n",
    "from sklearn.ensemble import GradientBoostingClassifier\n",
    "from sklearn.model_selection import train_test_split\n",
    "from sklearn.ensemble import RandomForestClassifier\n",
    "from sklearn.linear_model import LogisticRegression\n",
    "from sklearn.ensemble import AdaBoostClassifier\n",
    "from sklearn.tree import DecisionTreeClassifier\n",
    "from sklearn.preprocessing import MinMaxScaler\n",
    "from sklearn.metrics import mean_squared_error\n",
    "from sklearn.metrics import accuracy_score\n",
    "from keras.layers import Dense, LSTM\n",
    "from keras.models import Sequential\n",
    "import matplotlib.pyplot as plt\n",
    "import matplotlib.pyplot as plt\n",
    "from textblob import TextBlob\n",
    "from datetime import datetime\n",
    "from sklearn import metrics \n",
    "import pandas as pd \n",
    "import numpy as np\n",
    "import math\n",
    "import re"
   ]
  },
  {
   "cell_type": "markdown",
   "metadata": {},
   "source": [
    "## Loading and Testing Stock Market Dataset"
   ]
  },
  {
   "cell_type": "code",
   "execution_count": 109,
   "metadata": {},
   "outputs": [
    {
     "data": {
      "text/html": [
       "<div>\n",
       "<style scoped>\n",
       "    .dataframe tbody tr th:only-of-type {\n",
       "        vertical-align: middle;\n",
       "    }\n",
       "\n",
       "    .dataframe tbody tr th {\n",
       "        vertical-align: top;\n",
       "    }\n",
       "\n",
       "    .dataframe thead th {\n",
       "        text-align: right;\n",
       "    }\n",
       "</style>\n",
       "<table border=\"1\" class=\"dataframe\">\n",
       "  <thead>\n",
       "    <tr style=\"text-align: right;\">\n",
       "      <th></th>\n",
       "      <th>Date</th>\n",
       "      <th>Open</th>\n",
       "      <th>High</th>\n",
       "      <th>Low</th>\n",
       "      <th>Close</th>\n",
       "      <th>Adj Close</th>\n",
       "      <th>Volume</th>\n",
       "    </tr>\n",
       "  </thead>\n",
       "  <tbody>\n",
       "    <tr>\n",
       "      <th>0</th>\n",
       "      <td>2017-03-01</td>\n",
       "      <td>26.010000</td>\n",
       "      <td>26.379999</td>\n",
       "      <td>25.860001</td>\n",
       "      <td>25.900000</td>\n",
       "      <td>24.324486</td>\n",
       "      <td>55900</td>\n",
       "    </tr>\n",
       "    <tr>\n",
       "      <th>1</th>\n",
       "      <td>2017-03-02</td>\n",
       "      <td>25.830000</td>\n",
       "      <td>25.920000</td>\n",
       "      <td>25.660000</td>\n",
       "      <td>25.770000</td>\n",
       "      <td>24.202393</td>\n",
       "      <td>41800</td>\n",
       "    </tr>\n",
       "    <tr>\n",
       "      <th>2</th>\n",
       "      <td>2017-03-03</td>\n",
       "      <td>25.780001</td>\n",
       "      <td>26.070000</td>\n",
       "      <td>25.459999</td>\n",
       "      <td>25.780001</td>\n",
       "      <td>24.211786</td>\n",
       "      <td>70400</td>\n",
       "    </tr>\n",
       "    <tr>\n",
       "      <th>3</th>\n",
       "      <td>2017-03-06</td>\n",
       "      <td>25.680000</td>\n",
       "      <td>25.889999</td>\n",
       "      <td>25.440001</td>\n",
       "      <td>25.830000</td>\n",
       "      <td>24.258745</td>\n",
       "      <td>42600</td>\n",
       "    </tr>\n",
       "    <tr>\n",
       "      <th>4</th>\n",
       "      <td>2017-03-07</td>\n",
       "      <td>25.700001</td>\n",
       "      <td>25.879999</td>\n",
       "      <td>25.549999</td>\n",
       "      <td>25.840000</td>\n",
       "      <td>24.268139</td>\n",
       "      <td>45600</td>\n",
       "    </tr>\n",
       "  </tbody>\n",
       "</table>\n",
       "</div>"
      ],
      "text/plain": [
       "         Date       Open       High        Low      Close  Adj Close  Volume\n",
       "0  2017-03-01  26.010000  26.379999  25.860001  25.900000  24.324486   55900\n",
       "1  2017-03-02  25.830000  25.920000  25.660000  25.770000  24.202393   41800\n",
       "2  2017-03-03  25.780001  26.070000  25.459999  25.780001  24.211786   70400\n",
       "3  2017-03-06  25.680000  25.889999  25.440001  25.830000  24.258745   42600\n",
       "4  2017-03-07  25.700001  25.879999  25.549999  25.840000  24.268139   45600"
      ]
     },
     "execution_count": 109,
     "metadata": {},
     "output_type": "execute_result"
    }
   ],
   "source": [
    "df_prices = pd.read_csv('Datasets/stockprices.csv')\n",
    "df_prices.head()"
   ]
  },
  {
   "cell_type": "markdown",
   "metadata": {},
   "source": [
    "## Loading and Testing News Dataset"
   ]
  },
  {
   "cell_type": "code",
   "execution_count": 110,
   "metadata": {},
   "outputs": [
    {
     "data": {
      "text/html": [
       "<div>\n",
       "<style scoped>\n",
       "    .dataframe tbody tr th:only-of-type {\n",
       "        vertical-align: middle;\n",
       "    }\n",
       "\n",
       "    .dataframe tbody tr th {\n",
       "        vertical-align: top;\n",
       "    }\n",
       "\n",
       "    .dataframe thead th {\n",
       "        text-align: right;\n",
       "    }\n",
       "</style>\n",
       "<table border=\"1\" class=\"dataframe\">\n",
       "  <thead>\n",
       "    <tr style=\"text-align: right;\">\n",
       "      <th></th>\n",
       "      <th>Date</th>\n",
       "      <th>Category</th>\n",
       "      <th>News</th>\n",
       "    </tr>\n",
       "  </thead>\n",
       "  <tbody>\n",
       "    <tr>\n",
       "      <th>0</th>\n",
       "      <td>20170101</td>\n",
       "      <td>life-style.beauty</td>\n",
       "      <td>Look-ing ahead</td>\n",
       "    </tr>\n",
       "    <tr>\n",
       "      <th>1</th>\n",
       "      <td>20170101</td>\n",
       "      <td>life-style.health-fitness.weight-loss</td>\n",
       "      <td>Genie in a diet</td>\n",
       "    </tr>\n",
       "    <tr>\n",
       "      <th>2</th>\n",
       "      <td>20170101</td>\n",
       "      <td>life-style.health-fitness.de-stress</td>\n",
       "      <td>17 ideas for 2017</td>\n",
       "    </tr>\n",
       "    <tr>\n",
       "      <th>3</th>\n",
       "      <td>20170101</td>\n",
       "      <td>life-style.health-fitness.de-stress</td>\n",
       "      <td>I started living my life to my highest potenti...</td>\n",
       "    </tr>\n",
       "    <tr>\n",
       "      <th>4</th>\n",
       "      <td>20170101</td>\n",
       "      <td>life-style.home-garden</td>\n",
       "      <td>Hygge up your home</td>\n",
       "    </tr>\n",
       "    <tr>\n",
       "      <th>...</th>\n",
       "      <td>...</td>\n",
       "      <td>...</td>\n",
       "      <td>...</td>\n",
       "    </tr>\n",
       "    <tr>\n",
       "      <th>873610</th>\n",
       "      <td>20201231</td>\n",
       "      <td>city.jodhpur</td>\n",
       "      <td>Covid-19: Despite dip in cases; Rajasthan amon...</td>\n",
       "    </tr>\n",
       "    <tr>\n",
       "      <th>873611</th>\n",
       "      <td>20201231</td>\n",
       "      <td>city.udaipur</td>\n",
       "      <td>Covid-19: Despite dip in cases; Rajasthan amon...</td>\n",
       "    </tr>\n",
       "    <tr>\n",
       "      <th>873612</th>\n",
       "      <td>20201231</td>\n",
       "      <td>city.ajmer</td>\n",
       "      <td>Covid-19: Despite dip in cases; Rajasthan amon...</td>\n",
       "    </tr>\n",
       "    <tr>\n",
       "      <th>873613</th>\n",
       "      <td>20201231</td>\n",
       "      <td>removed</td>\n",
       "      <td>Govt extends deadline for use of FASTag till F...</td>\n",
       "    </tr>\n",
       "    <tr>\n",
       "      <th>873614</th>\n",
       "      <td>20201231</td>\n",
       "      <td>entertainment.bengali.movies.news</td>\n",
       "      <td>Celebs plan to party safely and responsibly on...</td>\n",
       "    </tr>\n",
       "  </tbody>\n",
       "</table>\n",
       "<p>873615 rows × 3 columns</p>\n",
       "</div>"
      ],
      "text/plain": [
       "            Date                               Category  \\\n",
       "0       20170101                      life-style.beauty   \n",
       "1       20170101  life-style.health-fitness.weight-loss   \n",
       "2       20170101    life-style.health-fitness.de-stress   \n",
       "3       20170101    life-style.health-fitness.de-stress   \n",
       "4       20170101                 life-style.home-garden   \n",
       "...          ...                                    ...   \n",
       "873610  20201231                           city.jodhpur   \n",
       "873611  20201231                           city.udaipur   \n",
       "873612  20201231                             city.ajmer   \n",
       "873613  20201231                                removed   \n",
       "873614  20201231      entertainment.bengali.movies.news   \n",
       "\n",
       "                                                     News  \n",
       "0                                          Look-ing ahead  \n",
       "1                                         Genie in a diet  \n",
       "2                                       17 ideas for 2017  \n",
       "3       I started living my life to my highest potenti...  \n",
       "4                                      Hygge up your home  \n",
       "...                                                   ...  \n",
       "873610  Covid-19: Despite dip in cases; Rajasthan amon...  \n",
       "873611  Covid-19: Despite dip in cases; Rajasthan amon...  \n",
       "873612  Covid-19: Despite dip in cases; Rajasthan amon...  \n",
       "873613  Govt extends deadline for use of FASTag till F...  \n",
       "873614  Celebs plan to party safely and responsibly on...  \n",
       "\n",
       "[873615 rows x 3 columns]"
      ]
     },
     "execution_count": 110,
     "metadata": {},
     "output_type": "execute_result"
    }
   ],
   "source": [
    "cols = ['Date', 'Category', 'News']\n",
    "df_news = pd.read_csv(\"Datasets/news.csv\", names=cols)\n",
    "df_news = df_news.dropna(axis=0, how='any')\n",
    "df_news"
   ]
  },
  {
   "cell_type": "markdown",
   "metadata": {},
   "source": [
    "## Cleaning Data - Dropping Unwanted Values"
   ]
  },
  {
   "cell_type": "code",
   "execution_count": 111,
   "metadata": {},
   "outputs": [
    {
     "data": {
      "text/html": [
       "<div>\n",
       "<style scoped>\n",
       "    .dataframe tbody tr th:only-of-type {\n",
       "        vertical-align: middle;\n",
       "    }\n",
       "\n",
       "    .dataframe tbody tr th {\n",
       "        vertical-align: top;\n",
       "    }\n",
       "\n",
       "    .dataframe thead th {\n",
       "        text-align: right;\n",
       "    }\n",
       "</style>\n",
       "<table border=\"1\" class=\"dataframe\">\n",
       "  <thead>\n",
       "    <tr style=\"text-align: right;\">\n",
       "      <th></th>\n",
       "      <th>index</th>\n",
       "      <th>Date</th>\n",
       "      <th>Category</th>\n",
       "      <th>News</th>\n",
       "    </tr>\n",
       "  </thead>\n",
       "  <tbody>\n",
       "    <tr>\n",
       "      <th>0</th>\n",
       "      <td>0</td>\n",
       "      <td>20170101</td>\n",
       "      <td>life-style.beauty</td>\n",
       "      <td>Look-ing ahead</td>\n",
       "    </tr>\n",
       "    <tr>\n",
       "      <th>1</th>\n",
       "      <td>84</td>\n",
       "      <td>20170102</td>\n",
       "      <td>life-style.health-fitness.de-stress</td>\n",
       "      <td>Destress plan for the first Monday of 2017</td>\n",
       "    </tr>\n",
       "    <tr>\n",
       "      <th>2</th>\n",
       "      <td>784</td>\n",
       "      <td>20170103</td>\n",
       "      <td>city.bareilly</td>\n",
       "      <td>State opposition dismisses Samajwadi Party feu...</td>\n",
       "    </tr>\n",
       "    <tr>\n",
       "      <th>3</th>\n",
       "      <td>1483</td>\n",
       "      <td>20170104</td>\n",
       "      <td>tv.news.hindi</td>\n",
       "      <td>Rudra Soni ready to go bald for TV; not Bollyw...</td>\n",
       "    </tr>\n",
       "    <tr>\n",
       "      <th>4</th>\n",
       "      <td>2183</td>\n",
       "      <td>20170105</td>\n",
       "      <td>life-style.home-garden</td>\n",
       "      <td>Decoding Buddhist prayer flags</td>\n",
       "    </tr>\n",
       "    <tr>\n",
       "      <th>...</th>\n",
       "      <td>...</td>\n",
       "      <td>...</td>\n",
       "      <td>...</td>\n",
       "      <td>...</td>\n",
       "    </tr>\n",
       "    <tr>\n",
       "      <th>1456</th>\n",
       "      <td>871121</td>\n",
       "      <td>20201227</td>\n",
       "      <td>entertainment.bengali.movies.news</td>\n",
       "      <td>#BigInterview! Dhritiman Chatterjee: Nobody da...</td>\n",
       "    </tr>\n",
       "    <tr>\n",
       "      <th>1457</th>\n",
       "      <td>871620</td>\n",
       "      <td>20201228</td>\n",
       "      <td>astrology.horoscope</td>\n",
       "      <td>Horoscope Today; 28 December 2020: Check astro...</td>\n",
       "    </tr>\n",
       "    <tr>\n",
       "      <th>1458</th>\n",
       "      <td>872118</td>\n",
       "      <td>20201229</td>\n",
       "      <td>city.bareilly</td>\n",
       "      <td>Man recovers charred remains of 'thief' from h...</td>\n",
       "    </tr>\n",
       "    <tr>\n",
       "      <th>1459</th>\n",
       "      <td>872617</td>\n",
       "      <td>20201230</td>\n",
       "      <td>astrology.numerology-tarot</td>\n",
       "      <td>Numerology Readings 30 December 2020: Predicti...</td>\n",
       "    </tr>\n",
       "    <tr>\n",
       "      <th>1460</th>\n",
       "      <td>873117</td>\n",
       "      <td>20201231</td>\n",
       "      <td>astrology.horoscope</td>\n",
       "      <td>Horoscope Today; 31 December 2020: Check astro...</td>\n",
       "    </tr>\n",
       "  </tbody>\n",
       "</table>\n",
       "<p>1461 rows × 4 columns</p>\n",
       "</div>"
      ],
      "text/plain": [
       "       index      Date                             Category  \\\n",
       "0          0  20170101                    life-style.beauty   \n",
       "1         84  20170102  life-style.health-fitness.de-stress   \n",
       "2        784  20170103                        city.bareilly   \n",
       "3       1483  20170104                        tv.news.hindi   \n",
       "4       2183  20170105               life-style.home-garden   \n",
       "...      ...       ...                                  ...   \n",
       "1456  871121  20201227    entertainment.bengali.movies.news   \n",
       "1457  871620  20201228                  astrology.horoscope   \n",
       "1458  872118  20201229                        city.bareilly   \n",
       "1459  872617  20201230           astrology.numerology-tarot   \n",
       "1460  873117  20201231                  astrology.horoscope   \n",
       "\n",
       "                                                   News  \n",
       "0                                        Look-ing ahead  \n",
       "1            Destress plan for the first Monday of 2017  \n",
       "2     State opposition dismisses Samajwadi Party feu...  \n",
       "3     Rudra Soni ready to go bald for TV; not Bollyw...  \n",
       "4                        Decoding Buddhist prayer flags  \n",
       "...                                                 ...  \n",
       "1456  #BigInterview! Dhritiman Chatterjee: Nobody da...  \n",
       "1457  Horoscope Today; 28 December 2020: Check astro...  \n",
       "1458  Man recovers charred remains of 'thief' from h...  \n",
       "1459  Numerology Readings 30 December 2020: Predicti...  \n",
       "1460  Horoscope Today; 31 December 2020: Check astro...  \n",
       "\n",
       "[1461 rows x 4 columns]"
      ]
     },
     "execution_count": 111,
     "metadata": {},
     "output_type": "execute_result"
    }
   ],
   "source": [
    "df_news = df_news.drop_duplicates('Date', keep='first').sort_index()\n",
    "df_news = df_news.reset_index()\n",
    "df_news"
   ]
  },
  {
   "cell_type": "markdown",
   "metadata": {},
   "source": [
    "## Storing City Data"
   ]
  },
  {
   "cell_type": "code",
   "execution_count": 112,
   "metadata": {},
   "outputs": [
    {
     "data": {
      "text/html": [
       "<div>\n",
       "<style scoped>\n",
       "    .dataframe tbody tr th:only-of-type {\n",
       "        vertical-align: middle;\n",
       "    }\n",
       "\n",
       "    .dataframe tbody tr th {\n",
       "        vertical-align: top;\n",
       "    }\n",
       "\n",
       "    .dataframe thead th {\n",
       "        text-align: right;\n",
       "    }\n",
       "</style>\n",
       "<table border=\"1\" class=\"dataframe\">\n",
       "  <thead>\n",
       "    <tr style=\"text-align: right;\">\n",
       "      <th></th>\n",
       "      <th>index</th>\n",
       "      <th>Date</th>\n",
       "      <th>Category</th>\n",
       "      <th>News</th>\n",
       "    </tr>\n",
       "  </thead>\n",
       "  <tbody>\n",
       "    <tr>\n",
       "      <th>2</th>\n",
       "      <td>784</td>\n",
       "      <td>20170103</td>\n",
       "      <td>city.bareilly</td>\n",
       "      <td>State opposition dismisses Samajwadi Party feu...</td>\n",
       "    </tr>\n",
       "    <tr>\n",
       "      <th>5</th>\n",
       "      <td>2883</td>\n",
       "      <td>20170106</td>\n",
       "      <td>city.bareilly</td>\n",
       "      <td>Will stay bachelor to serve Akhilesh; says thr...</td>\n",
       "    </tr>\n",
       "    <tr>\n",
       "      <th>6</th>\n",
       "      <td>3582</td>\n",
       "      <td>20170107</td>\n",
       "      <td>city.mysuru</td>\n",
       "      <td>Helpdesk to aid bizmen get Udyog Aadhaar Memor...</td>\n",
       "    </tr>\n",
       "    <tr>\n",
       "      <th>9</th>\n",
       "      <td>5682</td>\n",
       "      <td>20170110</td>\n",
       "      <td>city.lucknow</td>\n",
       "      <td>Mulayam Singh calls off January 5 convention</td>\n",
       "    </tr>\n",
       "    <tr>\n",
       "      <th>12</th>\n",
       "      <td>7782</td>\n",
       "      <td>20170113</td>\n",
       "      <td>city.kochi</td>\n",
       "      <td>Vidya Balan opts out of biopic on Madhavikutty</td>\n",
       "    </tr>\n",
       "    <tr>\n",
       "      <th>...</th>\n",
       "      <td>...</td>\n",
       "      <td>...</td>\n",
       "      <td>...</td>\n",
       "      <td>...</td>\n",
       "    </tr>\n",
       "    <tr>\n",
       "      <th>1444</th>\n",
       "      <td>865132</td>\n",
       "      <td>20201215</td>\n",
       "      <td>city.nagpur</td>\n",
       "      <td>1;147 RT-PCR tests in a day; only 3 found +ve ...</td>\n",
       "    </tr>\n",
       "    <tr>\n",
       "      <th>1447</th>\n",
       "      <td>866631</td>\n",
       "      <td>20201218</td>\n",
       "      <td>city.ahmedabad</td>\n",
       "      <td>Cops; panch witnesses sniffed suspects' mouths...</td>\n",
       "    </tr>\n",
       "    <tr>\n",
       "      <th>1448</th>\n",
       "      <td>867130</td>\n",
       "      <td>20201219</td>\n",
       "      <td>city.mumbai</td>\n",
       "      <td>Rally champion only crowned if half WRC season...</td>\n",
       "    </tr>\n",
       "    <tr>\n",
       "      <th>1452</th>\n",
       "      <td>869128</td>\n",
       "      <td>20201223</td>\n",
       "      <td>city.vadodara</td>\n",
       "      <td>Sawmill in Makarpura GIDC gutted; none hurt</td>\n",
       "    </tr>\n",
       "    <tr>\n",
       "      <th>1458</th>\n",
       "      <td>872118</td>\n",
       "      <td>20201229</td>\n",
       "      <td>city.bareilly</td>\n",
       "      <td>Man recovers charred remains of 'thief' from h...</td>\n",
       "    </tr>\n",
       "  </tbody>\n",
       "</table>\n",
       "<p>626 rows × 4 columns</p>\n",
       "</div>"
      ],
      "text/plain": [
       "       index      Date        Category  \\\n",
       "2        784  20170103   city.bareilly   \n",
       "5       2883  20170106   city.bareilly   \n",
       "6       3582  20170107     city.mysuru   \n",
       "9       5682  20170110    city.lucknow   \n",
       "12      7782  20170113      city.kochi   \n",
       "...      ...       ...             ...   \n",
       "1444  865132  20201215     city.nagpur   \n",
       "1447  866631  20201218  city.ahmedabad   \n",
       "1448  867130  20201219     city.mumbai   \n",
       "1452  869128  20201223   city.vadodara   \n",
       "1458  872118  20201229   city.bareilly   \n",
       "\n",
       "                                                   News  \n",
       "2     State opposition dismisses Samajwadi Party feu...  \n",
       "5     Will stay bachelor to serve Akhilesh; says thr...  \n",
       "6     Helpdesk to aid bizmen get Udyog Aadhaar Memor...  \n",
       "9          Mulayam Singh calls off January 5 convention  \n",
       "12       Vidya Balan opts out of biopic on Madhavikutty  \n",
       "...                                                 ...  \n",
       "1444  1;147 RT-PCR tests in a day; only 3 found +ve ...  \n",
       "1447  Cops; panch witnesses sniffed suspects' mouths...  \n",
       "1448  Rally champion only crowned if half WRC season...  \n",
       "1452        Sawmill in Makarpura GIDC gutted; none hurt  \n",
       "1458  Man recovers charred remains of 'thief' from h...  \n",
       "\n",
       "[626 rows x 4 columns]"
      ]
     },
     "execution_count": 112,
     "metadata": {},
     "output_type": "execute_result"
    }
   ],
   "source": [
    "city_data = df_news[df_news['Category'].str.contains('^city\\.[a-z]+$', regex=True)]\n",
    "city_data"
   ]
  },
  {
   "cell_type": "markdown",
   "metadata": {},
   "source": [
    "## Extracting City Data"
   ]
  },
  {
   "cell_type": "code",
   "execution_count": 113,
   "metadata": {},
   "outputs": [
    {
     "data": {
      "text/html": [
       "<div>\n",
       "<style scoped>\n",
       "    .dataframe tbody tr th:only-of-type {\n",
       "        vertical-align: middle;\n",
       "    }\n",
       "\n",
       "    .dataframe tbody tr th {\n",
       "        vertical-align: top;\n",
       "    }\n",
       "\n",
       "    .dataframe thead th {\n",
       "        text-align: right;\n",
       "    }\n",
       "</style>\n",
       "<table border=\"1\" class=\"dataframe\">\n",
       "  <thead>\n",
       "    <tr style=\"text-align: right;\">\n",
       "      <th></th>\n",
       "      <th>Date</th>\n",
       "      <th>News</th>\n",
       "      <th>City_Name</th>\n",
       "    </tr>\n",
       "  </thead>\n",
       "  <tbody>\n",
       "    <tr>\n",
       "      <th>0</th>\n",
       "      <td>20170103</td>\n",
       "      <td>State opposition dismisses Samajwadi Party feu...</td>\n",
       "      <td>bareilly</td>\n",
       "    </tr>\n",
       "    <tr>\n",
       "      <th>1</th>\n",
       "      <td>20170106</td>\n",
       "      <td>Will stay bachelor to serve Akhilesh; says thr...</td>\n",
       "      <td>bareilly</td>\n",
       "    </tr>\n",
       "    <tr>\n",
       "      <th>2</th>\n",
       "      <td>20170107</td>\n",
       "      <td>Helpdesk to aid bizmen get Udyog Aadhaar Memor...</td>\n",
       "      <td>mysuru</td>\n",
       "    </tr>\n",
       "    <tr>\n",
       "      <th>3</th>\n",
       "      <td>20170110</td>\n",
       "      <td>Mulayam Singh calls off January 5 convention</td>\n",
       "      <td>lucknow</td>\n",
       "    </tr>\n",
       "    <tr>\n",
       "      <th>4</th>\n",
       "      <td>20170113</td>\n",
       "      <td>Vidya Balan opts out of biopic on Madhavikutty</td>\n",
       "      <td>kochi</td>\n",
       "    </tr>\n",
       "    <tr>\n",
       "      <th>...</th>\n",
       "      <td>...</td>\n",
       "      <td>...</td>\n",
       "      <td>...</td>\n",
       "    </tr>\n",
       "    <tr>\n",
       "      <th>621</th>\n",
       "      <td>20201215</td>\n",
       "      <td>1;147 RT-PCR tests in a day; only 3 found +ve ...</td>\n",
       "      <td>nagpur</td>\n",
       "    </tr>\n",
       "    <tr>\n",
       "      <th>622</th>\n",
       "      <td>20201218</td>\n",
       "      <td>Cops; panch witnesses sniffed suspects' mouths...</td>\n",
       "      <td>ahmedabad</td>\n",
       "    </tr>\n",
       "    <tr>\n",
       "      <th>623</th>\n",
       "      <td>20201219</td>\n",
       "      <td>Rally champion only crowned if half WRC season...</td>\n",
       "      <td>mumbai</td>\n",
       "    </tr>\n",
       "    <tr>\n",
       "      <th>624</th>\n",
       "      <td>20201223</td>\n",
       "      <td>Sawmill in Makarpura GIDC gutted; none hurt</td>\n",
       "      <td>vadodara</td>\n",
       "    </tr>\n",
       "    <tr>\n",
       "      <th>625</th>\n",
       "      <td>20201229</td>\n",
       "      <td>Man recovers charred remains of 'thief' from h...</td>\n",
       "      <td>bareilly</td>\n",
       "    </tr>\n",
       "  </tbody>\n",
       "</table>\n",
       "<p>626 rows × 3 columns</p>\n",
       "</div>"
      ],
      "text/plain": [
       "         Date                                               News  City_Name\n",
       "0    20170103  State opposition dismisses Samajwadi Party feu...   bareilly\n",
       "1    20170106  Will stay bachelor to serve Akhilesh; says thr...   bareilly\n",
       "2    20170107  Helpdesk to aid bizmen get Udyog Aadhaar Memor...     mysuru\n",
       "3    20170110       Mulayam Singh calls off January 5 convention    lucknow\n",
       "4    20170113     Vidya Balan opts out of biopic on Madhavikutty      kochi\n",
       "..        ...                                                ...        ...\n",
       "621  20201215  1;147 RT-PCR tests in a day; only 3 found +ve ...     nagpur\n",
       "622  20201218  Cops; panch witnesses sniffed suspects' mouths...  ahmedabad\n",
       "623  20201219  Rally champion only crowned if half WRC season...     mumbai\n",
       "624  20201223        Sawmill in Makarpura GIDC gutted; none hurt   vadodara\n",
       "625  20201229  Man recovers charred remains of 'thief' from h...   bareilly\n",
       "\n",
       "[626 rows x 3 columns]"
      ]
     },
     "execution_count": 113,
     "metadata": {},
     "output_type": "execute_result"
    }
   ],
   "source": [
    "city_split = pd.DataFrame(columns=['City_Name'])\n",
    "city_split['City_Name'] = city_data.Category.str.split('.',expand=True)[1]\n",
    "city_data = pd.concat([city_data,city_split],axis=1)\n",
    "city_data.drop(columns=['Category'],axis=1, inplace=True)\n",
    "city_data.reset_index(inplace=True)\n",
    "city_data.drop(['level_0','index'],axis=1, inplace=True)\n",
    "city_data"
   ]
  },
  {
   "cell_type": "markdown",
   "metadata": {},
   "source": [
    "## Preprocessing - Converting the 'Date' columns to Datetime"
   ]
  },
  {
   "cell_type": "code",
   "execution_count": 114,
   "metadata": {},
   "outputs": [
    {
     "data": {
      "text/html": [
       "<div>\n",
       "<style scoped>\n",
       "    .dataframe tbody tr th:only-of-type {\n",
       "        vertical-align: middle;\n",
       "    }\n",
       "\n",
       "    .dataframe tbody tr th {\n",
       "        vertical-align: top;\n",
       "    }\n",
       "\n",
       "    .dataframe thead th {\n",
       "        text-align: right;\n",
       "    }\n",
       "</style>\n",
       "<table border=\"1\" class=\"dataframe\">\n",
       "  <thead>\n",
       "    <tr style=\"text-align: right;\">\n",
       "      <th></th>\n",
       "      <th>Date</th>\n",
       "      <th>Open</th>\n",
       "      <th>High</th>\n",
       "      <th>Low</th>\n",
       "      <th>Close</th>\n",
       "      <th>Adj Close</th>\n",
       "      <th>Volume</th>\n",
       "    </tr>\n",
       "  </thead>\n",
       "  <tbody>\n",
       "    <tr>\n",
       "      <th>0</th>\n",
       "      <td>2017-03-01</td>\n",
       "      <td>26.010000</td>\n",
       "      <td>26.379999</td>\n",
       "      <td>25.860001</td>\n",
       "      <td>25.900000</td>\n",
       "      <td>24.324486</td>\n",
       "      <td>55900</td>\n",
       "    </tr>\n",
       "    <tr>\n",
       "      <th>1</th>\n",
       "      <td>2017-03-02</td>\n",
       "      <td>25.830000</td>\n",
       "      <td>25.920000</td>\n",
       "      <td>25.660000</td>\n",
       "      <td>25.770000</td>\n",
       "      <td>24.202393</td>\n",
       "      <td>41800</td>\n",
       "    </tr>\n",
       "    <tr>\n",
       "      <th>2</th>\n",
       "      <td>2017-03-03</td>\n",
       "      <td>25.780001</td>\n",
       "      <td>26.070000</td>\n",
       "      <td>25.459999</td>\n",
       "      <td>25.780001</td>\n",
       "      <td>24.211786</td>\n",
       "      <td>70400</td>\n",
       "    </tr>\n",
       "    <tr>\n",
       "      <th>3</th>\n",
       "      <td>2017-03-06</td>\n",
       "      <td>25.680000</td>\n",
       "      <td>25.889999</td>\n",
       "      <td>25.440001</td>\n",
       "      <td>25.830000</td>\n",
       "      <td>24.258745</td>\n",
       "      <td>42600</td>\n",
       "    </tr>\n",
       "    <tr>\n",
       "      <th>4</th>\n",
       "      <td>2017-03-07</td>\n",
       "      <td>25.700001</td>\n",
       "      <td>25.879999</td>\n",
       "      <td>25.549999</td>\n",
       "      <td>25.840000</td>\n",
       "      <td>24.268139</td>\n",
       "      <td>45600</td>\n",
       "    </tr>\n",
       "    <tr>\n",
       "      <th>...</th>\n",
       "      <td>...</td>\n",
       "      <td>...</td>\n",
       "      <td>...</td>\n",
       "      <td>...</td>\n",
       "      <td>...</td>\n",
       "      <td>...</td>\n",
       "      <td>...</td>\n",
       "    </tr>\n",
       "    <tr>\n",
       "      <th>1253</th>\n",
       "      <td>2022-02-18</td>\n",
       "      <td>49.080002</td>\n",
       "      <td>49.950001</td>\n",
       "      <td>48.669998</td>\n",
       "      <td>49.500000</td>\n",
       "      <td>49.500000</td>\n",
       "      <td>130500</td>\n",
       "    </tr>\n",
       "    <tr>\n",
       "      <th>1254</th>\n",
       "      <td>2022-02-22</td>\n",
       "      <td>49.080002</td>\n",
       "      <td>50.540001</td>\n",
       "      <td>48.970001</td>\n",
       "      <td>49.490002</td>\n",
       "      <td>49.490002</td>\n",
       "      <td>107200</td>\n",
       "    </tr>\n",
       "    <tr>\n",
       "      <th>1255</th>\n",
       "      <td>2022-02-23</td>\n",
       "      <td>50.099998</td>\n",
       "      <td>50.320000</td>\n",
       "      <td>49.049999</td>\n",
       "      <td>49.480000</td>\n",
       "      <td>49.480000</td>\n",
       "      <td>125300</td>\n",
       "    </tr>\n",
       "    <tr>\n",
       "      <th>1256</th>\n",
       "      <td>2022-02-24</td>\n",
       "      <td>48.349998</td>\n",
       "      <td>49.709999</td>\n",
       "      <td>47.070000</td>\n",
       "      <td>48.980000</td>\n",
       "      <td>48.980000</td>\n",
       "      <td>189600</td>\n",
       "    </tr>\n",
       "    <tr>\n",
       "      <th>1257</th>\n",
       "      <td>2022-02-25</td>\n",
       "      <td>49.310001</td>\n",
       "      <td>50.369999</td>\n",
       "      <td>47.529999</td>\n",
       "      <td>50.340000</td>\n",
       "      <td>50.340000</td>\n",
       "      <td>136900</td>\n",
       "    </tr>\n",
       "  </tbody>\n",
       "</table>\n",
       "<p>1258 rows × 7 columns</p>\n",
       "</div>"
      ],
      "text/plain": [
       "           Date       Open       High        Low      Close  Adj Close  Volume\n",
       "0    2017-03-01  26.010000  26.379999  25.860001  25.900000  24.324486   55900\n",
       "1    2017-03-02  25.830000  25.920000  25.660000  25.770000  24.202393   41800\n",
       "2    2017-03-03  25.780001  26.070000  25.459999  25.780001  24.211786   70400\n",
       "3    2017-03-06  25.680000  25.889999  25.440001  25.830000  24.258745   42600\n",
       "4    2017-03-07  25.700001  25.879999  25.549999  25.840000  24.268139   45600\n",
       "...         ...        ...        ...        ...        ...        ...     ...\n",
       "1253 2022-02-18  49.080002  49.950001  48.669998  49.500000  49.500000  130500\n",
       "1254 2022-02-22  49.080002  50.540001  48.970001  49.490002  49.490002  107200\n",
       "1255 2022-02-23  50.099998  50.320000  49.049999  49.480000  49.480000  125300\n",
       "1256 2022-02-24  48.349998  49.709999  47.070000  48.980000  48.980000  189600\n",
       "1257 2022-02-25  49.310001  50.369999  47.529999  50.340000  50.340000  136900\n",
       "\n",
       "[1258 rows x 7 columns]"
      ]
     },
     "execution_count": 114,
     "metadata": {},
     "output_type": "execute_result"
    }
   ],
   "source": [
    "df_news['Date'] = pd.to_datetime(df_news['Date'], format='%Y%m%d')\n",
    "df_prices['Date'] = pd.to_datetime(df_prices.Date, format='%Y-%m-%d')\n",
    "df_prices"
   ]
  },
  {
   "cell_type": "markdown",
   "metadata": {},
   "source": [
    "## Plotting the Data "
   ]
  },
  {
   "cell_type": "code",
   "execution_count": 115,
   "metadata": {},
   "outputs": [
    {
     "data": {
      "text/plain": [
       "[<matplotlib.lines.Line2D at 0x7fa030d00af0>]"
      ]
     },
     "execution_count": 115,
     "metadata": {},
     "output_type": "execute_result"
    },
    {
     "data": {
      "image/png": "[encoded data removed]",
      "text/plain": [
       "<Figure size 1152x576 with 1 Axes>"
      ]
     },
     "metadata": {
      "needs_background": "light"
     },
     "output_type": "display_data"
    }
   ],
   "source": [
    "plt.figure(figsize=(16,8))\n",
    "plt.title('Close Price history\\n')\n",
    "plt.xlabel('Time (Year)')\n",
    "plt.ylabel('Close Price')\n",
    "plt.plot(df_prices['Close'])"
   ]
  },
  {
   "cell_type": "markdown",
   "metadata": {},
   "source": [
    "## Storing Closing Stock"
   ]
  },
  {
   "cell_type": "code",
   "execution_count": 116,
   "metadata": {},
   "outputs": [],
   "source": [
    "def new_dataset(df_prices2, look_back=1):\n",
    "    dataX, dataY = [], []\n",
    "    for i in range(len(df_prices2)-look_back):\n",
    "        a = df_prices2[i:(i+look_back), 0]\n",
    "        dataX.append(a)\n",
    "        dataY.append(df_prices2[i + look_back, 0])\n",
    "    return np.array(dataX), np.array(dataY)\n",
    "\n",
    "df2 = pd.read_csv('Datasets/stockprices.csv', usecols=[5], engine='python')\n",
    "df2.dropna(inplace=True)\n",
    "df2 = df2.values\n",
    "df2 = df2.astype('float32')"
   ]
  },
  {
   "cell_type": "markdown",
   "metadata": {},
   "source": [
    "## Data Normalization"
   ]
  },
  {
   "cell_type": "code",
   "execution_count": 117,
   "metadata": {},
   "outputs": [],
   "source": [
    "scaler = MinMaxScaler(feature_range=(0, 1))\n",
    "df2 = scaler.fit_transform(df2)\n",
    "\n",
    "train_size = int(len(df2) * 0.80)\n",
    "test_size = len(df2) - train_size\n",
    "train, test = df2[0:train_size,:], df2[train_size:len(df2),:]\n",
    "\n",
    "look_back = 2\n",
    "trainX, trainY = new_dataset(train, look_back)\n",
    "testX, testY = new_dataset(test, look_back)\n",
    "\n",
    "trainX = np.reshape(trainX, (trainX.shape[0], trainX.shape[1], 1))\n",
    "testX = np.reshape(testX, (testX.shape[0], testX.shape[1], 1))"
   ]
  },
  {
   "cell_type": "markdown",
   "metadata": {},
   "source": [
    "## LSTM Neural Network Model for Numerical Analysis"
   ]
  },
  {
   "cell_type": "code",
   "execution_count": 118,
   "metadata": {},
   "outputs": [
    {
     "name": "stdout",
     "output_type": "stream",
     "text": [
      "Epoch 1/10\n",
      "101/101 - 1s - loss: 0.0075 - 1s/epoch - 13ms/step\n",
      "Epoch 2/10\n",
      "101/101 - 0s - loss: 0.0026 - 134ms/epoch - 1ms/step\n",
      "Epoch 3/10\n",
      "101/101 - 0s - loss: 0.0016 - 129ms/epoch - 1ms/step\n",
      "Epoch 4/10\n",
      "101/101 - 0s - loss: 8.6383e-04 - 135ms/epoch - 1ms/step\n",
      "Epoch 5/10\n",
      "101/101 - 0s - loss: 3.7181e-04 - 139ms/epoch - 1ms/step\n",
      "Epoch 6/10\n",
      "101/101 - 0s - loss: 1.7606e-04 - 134ms/epoch - 1ms/step\n",
      "Epoch 7/10\n",
      "101/101 - 0s - loss: 1.2843e-04 - 136ms/epoch - 1ms/step\n",
      "Epoch 8/10\n",
      "101/101 - 0s - loss: 1.2188e-04 - 136ms/epoch - 1ms/step\n",
      "Epoch 9/10\n",
      "101/101 - 0s - loss: 1.2118e-04 - 133ms/epoch - 1ms/step\n",
      "Epoch 10/10\n",
      "101/101 - 0s - loss: 1.1995e-04 - 136ms/epoch - 1ms/step\n"
     ]
    },
    {
     "data": {
      "text/plain": [
       "<keras.callbacks.History at 0x7fa03193de80>"
      ]
     },
     "execution_count": 118,
     "metadata": {},
     "output_type": "execute_result"
    }
   ],
   "source": [
    "model = Sequential()\n",
    "model.add(LSTM(7, input_shape=(look_back, 1)))\n",
    "model.add(Dense(1))\n",
    "model.compile(loss='mean_squared_error', optimizer='adam')\n",
    "model.fit(trainX, trainY, epochs=10, batch_size=10, verbose=2)"
   ]
  },
  {
   "cell_type": "markdown",
   "metadata": {},
   "source": [
    "<h2><h2>"
   ]
  },
  {
   "cell_type": "markdown",
   "metadata": {},
   "source": [
    "### The Model is now ready to make predictions."
   ]
  },
  {
   "cell_type": "markdown",
   "metadata": {},
   "source": [
    "## Making Predictions."
   ]
  },
  {
   "cell_type": "code",
   "execution_count": 119,
   "metadata": {},
   "outputs": [],
   "source": [
    "trainPredict = model.predict(trainX)\n",
    "testPredict = model.predict(testX)\n",
    "\n",
    "trainPredict = scaler.inverse_transform(trainPredict)\n",
    "trainY = scaler.inverse_transform([trainY])\n",
    "testPredict = scaler.inverse_transform(testPredict)\n",
    "testY = scaler.inverse_transform([testY])"
   ]
  },
  {
   "cell_type": "markdown",
   "metadata": {},
   "source": [
    "### We Need to Plot the Predictions."
   ]
  },
  {
   "cell_type": "markdown",
   "metadata": {},
   "source": [
    "## Shifting Train Predictions."
   ]
  },
  {
   "cell_type": "code",
   "execution_count": 120,
   "metadata": {},
   "outputs": [],
   "source": [
    "trainPredictPlot = np.empty_like(df2)\n",
    "trainPredictPlot[:, :] = np.nan\n",
    "trainPredictPlot[look_back:len(trainPredict)+look_back, :] = trainPredict"
   ]
  },
  {
   "cell_type": "markdown",
   "metadata": {},
   "source": [
    "## Shifting Test Predictions."
   ]
  },
  {
   "cell_type": "code",
   "execution_count": 121,
   "metadata": {},
   "outputs": [],
   "source": [
    "testPredictPlot = np.empty_like(df2)\n",
    "testPredictPlot[:, :] = np.nan\n",
    "testPredictPlot[len(trainPredict)+(look_back*2):len(df2), :] = testPredict"
   ]
  },
  {
   "cell_type": "markdown",
   "metadata": {},
   "source": [
    "## Plotting the Data"
   ]
  },
  {
   "cell_type": "code",
   "execution_count": 122,
   "metadata": {},
   "outputs": [
    {
     "data": {
      "image/png": "[encoded data removed]",
      "text/plain": [
       "<Figure size 1152x576 with 1 Axes>"
      ]
     },
     "metadata": {
      "needs_background": "light"
     },
     "output_type": "display_data"
    }
   ],
   "source": [
    "plt.figure(figsize=(16,8))\n",
    "plt.plot(scaler.inverse_transform(df2), label = 'Actual Data')\n",
    "plt.title('BSE Stock Price Prediction from last 5 years Data')\n",
    "plt.xlabel('Time')\n",
    "plt.ylabel('Actual Stock Price')\n",
    "plt.plot(trainPredictPlot,color='#DE3163', label = 'Train Predicted Data')\n",
    "plt.plot(testPredictPlot, color='#29c714', label = 'Test Predicted Data')\n",
    "plt.legend(loc='best')\n",
    "plt.show()"
   ]
  },
  {
   "cell_type": "markdown",
   "metadata": {},
   "source": [
    "## Root Mean Square Error"
   ]
  },
  {
   "cell_type": "code",
   "execution_count": 123,
   "metadata": {},
   "outputs": [
    {
     "name": "stdout",
     "output_type": "stream",
     "text": [
      "Training  =  0.5698440425318012  RMSE\n",
      "Testing =  2.1146899859777464  RMSE\n"
     ]
    }
   ],
   "source": [
    "trainScore = math.sqrt(mean_squared_error(trainY[0], trainPredict[:,0]))\n",
    "print(\"Training  = \",trainScore,\" RMSE\")\n",
    "testScore = math.sqrt(mean_squared_error(testY[0], testPredict[:,0]))\n",
    "print(\"Testing = \",testScore,\" RMSE\")"
   ]
  },
  {
   "cell_type": "markdown",
   "metadata": {},
   "source": [
    "<hr>"
   ]
  },
  {
   "cell_type": "markdown",
   "metadata": {},
   "source": [
    "# Textual Analysis"
   ]
  },
  {
   "cell_type": "markdown",
   "metadata": {},
   "source": [
    "<h2><h2>"
   ]
  },
  {
   "cell_type": "markdown",
   "metadata": {},
   "source": [
    "## Headline text (News Headline) Per City"
   ]
  },
  {
   "cell_type": "code",
   "execution_count": 124,
   "metadata": {},
   "outputs": [
    {
     "data": {
      "text/html": [
       "<div>\n",
       "<style scoped>\n",
       "    .dataframe tbody tr th:only-of-type {\n",
       "        vertical-align: middle;\n",
       "    }\n",
       "\n",
       "    .dataframe tbody tr th {\n",
       "        vertical-align: top;\n",
       "    }\n",
       "\n",
       "    .dataframe thead th {\n",
       "        text-align: right;\n",
       "    }\n",
       "</style>\n",
       "<table border=\"1\" class=\"dataframe\">\n",
       "  <thead>\n",
       "    <tr style=\"text-align: right;\">\n",
       "      <th></th>\n",
       "      <th>Number_of_headline_text</th>\n",
       "    </tr>\n",
       "    <tr>\n",
       "      <th>City_Name</th>\n",
       "      <th></th>\n",
       "    </tr>\n",
       "  </thead>\n",
       "  <tbody>\n",
       "    <tr>\n",
       "      <th>nagpur</th>\n",
       "      <td>38</td>\n",
       "    </tr>\n",
       "    <tr>\n",
       "      <th>bengaluru</th>\n",
       "      <td>33</td>\n",
       "    </tr>\n",
       "    <tr>\n",
       "      <th>madurai</th>\n",
       "      <td>31</td>\n",
       "    </tr>\n",
       "    <tr>\n",
       "      <th>goa</th>\n",
       "      <td>31</td>\n",
       "    </tr>\n",
       "    <tr>\n",
       "      <th>trichy</th>\n",
       "      <td>31</td>\n",
       "    </tr>\n",
       "    <tr>\n",
       "      <th>hyderabad</th>\n",
       "      <td>29</td>\n",
       "    </tr>\n",
       "    <tr>\n",
       "      <th>patna</th>\n",
       "      <td>27</td>\n",
       "    </tr>\n",
       "    <tr>\n",
       "      <th>chennai</th>\n",
       "      <td>27</td>\n",
       "    </tr>\n",
       "    <tr>\n",
       "      <th>ahmedabad</th>\n",
       "      <td>25</td>\n",
       "    </tr>\n",
       "    <tr>\n",
       "      <th>chandigarh</th>\n",
       "      <td>19</td>\n",
       "    </tr>\n",
       "    <tr>\n",
       "      <th>pune</th>\n",
       "      <td>17</td>\n",
       "    </tr>\n",
       "    <tr>\n",
       "      <th>coimbatore</th>\n",
       "      <td>16</td>\n",
       "    </tr>\n",
       "    <tr>\n",
       "      <th>nashik</th>\n",
       "      <td>16</td>\n",
       "    </tr>\n",
       "    <tr>\n",
       "      <th>vadodara</th>\n",
       "      <td>16</td>\n",
       "    </tr>\n",
       "    <tr>\n",
       "      <th>vijayawada</th>\n",
       "      <td>16</td>\n",
       "    </tr>\n",
       "  </tbody>\n",
       "</table>\n",
       "</div>"
      ],
      "text/plain": [
       "            Number_of_headline_text\n",
       "City_Name                          \n",
       "nagpur                           38\n",
       "bengaluru                        33\n",
       "madurai                          31\n",
       "goa                              31\n",
       "trichy                           31\n",
       "hyderabad                        29\n",
       "patna                            27\n",
       "chennai                          27\n",
       "ahmedabad                        25\n",
       "chandigarh                       19\n",
       "pune                             17\n",
       "coimbatore                       16\n",
       "nashik                           16\n",
       "vadodara                         16\n",
       "vijayawada                       16"
      ]
     },
     "execution_count": 124,
     "metadata": {},
     "output_type": "execute_result"
    }
   ],
   "source": [
    "city_headline = city_data.groupby(['City_Name']).agg({'News':'count'})\n",
    "city_headline.rename(columns={'News':'Number_of_headline_text'},inplace=True)\n",
    "city_headline = city_headline.sort_values(by='Number_of_headline_text',ascending=False)\n",
    "top_15_headline_city = city_headline.head(15)\n",
    "top_15_headline_city"
   ]
  },
  {
   "cell_type": "markdown",
   "metadata": {},
   "source": [
    "## Top 15 Cities which have high number of headline text"
   ]
  },
  {
   "cell_type": "code",
   "execution_count": 125,
   "metadata": {},
   "outputs": [
    {
     "data": {
      "image/png": "[encoded data removed]",
      "text/plain": [
       "<Figure size 1152x576 with 1 Axes>"
      ]
     },
     "metadata": {
      "needs_background": "light"
     },
     "output_type": "display_data"
    }
   ],
   "source": [
    "plt.figure(figsize=(16,8))\n",
    "plt.bar(top_15_headline_city.index,height=top_15_headline_city['Number_of_headline_text'])\n",
    "plt.xticks(rotation = 45)\n",
    "plt.xlabel('City Name',fontsize=18)\n",
    "plt.ylabel('Recorded Articles',fontsize=18)\n",
    "plt.title('Top 15 Highest Headline Text\\n',fontsize=24, fontweight='bold')\n",
    "plt.show()"
   ]
  },
  {
   "cell_type": "markdown",
   "metadata": {},
   "source": [
    "<h2></h2>"
   ]
  },
  {
   "cell_type": "markdown",
   "metadata": {},
   "source": [
    "## Sentiment Analysis of Headline Text"
   ]
  },
  {
   "cell_type": "code",
   "execution_count": 126,
   "metadata": {},
   "outputs": [],
   "source": [
    "def getAnalysis_polarity(headline):\n",
    "    result = TextBlob(headline)\n",
    "    if result.sentiment.polarity < 0:\n",
    "        return 'negative'\n",
    "    elif result.sentiment.polarity == 0:\n",
    "        return 'neutral'\n",
    "    else:\n",
    "        return 'positive'"
   ]
  },
  {
   "cell_type": "code",
   "execution_count": 127,
   "metadata": {},
   "outputs": [],
   "source": [
    "df_news['Result'] = np.array([getAnalysis_polarity(headline) for headline in df_news['News']])"
   ]
  },
  {
   "cell_type": "code",
   "execution_count": 128,
   "metadata": {},
   "outputs": [
    {
     "data": {
      "text/html": [
       "<div>\n",
       "<style scoped>\n",
       "    .dataframe tbody tr th:only-of-type {\n",
       "        vertical-align: middle;\n",
       "    }\n",
       "\n",
       "    .dataframe tbody tr th {\n",
       "        vertical-align: top;\n",
       "    }\n",
       "\n",
       "    .dataframe thead th {\n",
       "        text-align: right;\n",
       "    }\n",
       "</style>\n",
       "<table border=\"1\" class=\"dataframe\">\n",
       "  <thead>\n",
       "    <tr style=\"text-align: right;\">\n",
       "      <th></th>\n",
       "      <th>News</th>\n",
       "    </tr>\n",
       "    <tr>\n",
       "      <th>Result</th>\n",
       "      <th></th>\n",
       "    </tr>\n",
       "  </thead>\n",
       "  <tbody>\n",
       "    <tr>\n",
       "      <th>negative</th>\n",
       "      <td>176</td>\n",
       "    </tr>\n",
       "    <tr>\n",
       "      <th>neutral</th>\n",
       "      <td>848</td>\n",
       "    </tr>\n",
       "    <tr>\n",
       "      <th>positive</th>\n",
       "      <td>437</td>\n",
       "    </tr>\n",
       "  </tbody>\n",
       "</table>\n",
       "</div>"
      ],
      "text/plain": [
       "          News\n",
       "Result        \n",
       "negative   176\n",
       "neutral    848\n",
       "positive   437"
      ]
     },
     "execution_count": 128,
     "metadata": {},
     "output_type": "execute_result"
    }
   ],
   "source": [
    "final_result = df_news.groupby(['Result']).agg({'News':'count'})\n",
    "final_result"
   ]
  },
  {
   "cell_type": "code",
   "execution_count": 129,
   "metadata": {},
   "outputs": [],
   "source": [
    "negative = (final_result.loc['negative'] / len(df_news))*100\n",
    "neutral = (final_result.loc['neutral'] / len(df_news))*100\n",
    "positive = (final_result.loc['positive'] / len(df_news))*100"
   ]
  },
  {
   "cell_type": "markdown",
   "metadata": {},
   "source": [
    "## Printing the Percentages"
   ]
  },
  {
   "cell_type": "code",
   "execution_count": 130,
   "metadata": {},
   "outputs": [
    {
     "name": "stdout",
     "output_type": "stream",
     "text": [
      "Positive Headlines:  News    29.91102\n",
      "Name: positive, dtype: float64\n",
      "\n",
      "\n",
      "Negative Headlines:  News    12.046543\n",
      "Name: negative, dtype: float64\n",
      "\n",
      "\n",
      "Unbiased Headlines:  News    58.042437\n",
      "Name: neutral, dtype: float64\n"
     ]
    }
   ],
   "source": [
    "print('Positive Headlines: ' , positive )\n",
    "print('\\n\\nNegative Headlines: ' ,negative )\n",
    "print('\\n\\nUnbiased Headlines: ' , str(neutral))"
   ]
  },
  {
   "cell_type": "markdown",
   "metadata": {},
   "source": [
    "## Plotting the Results"
   ]
  },
  {
   "cell_type": "code",
   "execution_count": 131,
   "metadata": {},
   "outputs": [
    {
     "data": {
      "image/png": "[encoded data removed]",
      "text/plain": [
       "<Figure size 1152x576 with 1 Axes>"
      ]
     },
     "metadata": {},
     "output_type": "display_data"
    }
   ],
   "source": [
    "plt.figure(figsize=(16,8))\n",
    "final_result['News'].plot.pie(autopct='%1.1f%%')\n",
    "plt.title(\"Overall Sentiment Distribution Pie Chart\",fontweight=\"bold\")\n",
    "plt.show()"
   ]
  },
  {
   "cell_type": "markdown",
   "metadata": {},
   "source": [
    "<hr>"
   ]
  },
  {
   "cell_type": "markdown",
   "metadata": {},
   "source": [
    "# Hybrid model for Stock Price/Perfomance Prediction"
   ]
  },
  {
   "cell_type": "markdown",
   "metadata": {},
   "source": [
    "<h2></h2>"
   ]
  },
  {
   "cell_type": "markdown",
   "metadata": {},
   "source": [
    "## Loading Data"
   ]
  },
  {
   "cell_type": "code",
   "execution_count": 132,
   "metadata": {},
   "outputs": [],
   "source": [
    "df_prices = pd.read_csv('Datasets/stockprices.csv')\n",
    "cols = ['Date', 'Category', 'News']\n",
    "df_news = pd.read_csv(\"Datasets/news.csv\", names=cols)"
   ]
  },
  {
   "cell_type": "code",
   "execution_count": 133,
   "metadata": {},
   "outputs": [],
   "source": [
    "df_news['Date'] = pd.to_datetime(df_news['Date'], format='%Y%m%d')\n",
    "df_prices['Date'] = pd.to_datetime(df_prices.Date, format='%Y-%m-%d')"
   ]
  },
  {
   "cell_type": "markdown",
   "metadata": {},
   "source": [
    "## Making Hybrid Dataset"
   ]
  },
  {
   "cell_type": "code",
   "execution_count": 134,
   "metadata": {},
   "outputs": [
    {
     "data": {
      "text/html": [
       "<div>\n",
       "<style scoped>\n",
       "    .dataframe tbody tr th:only-of-type {\n",
       "        vertical-align: middle;\n",
       "    }\n",
       "\n",
       "    .dataframe tbody tr th {\n",
       "        vertical-align: top;\n",
       "    }\n",
       "\n",
       "    .dataframe thead th {\n",
       "        text-align: right;\n",
       "    }\n",
       "</style>\n",
       "<table border=\"1\" class=\"dataframe\">\n",
       "  <thead>\n",
       "    <tr style=\"text-align: right;\">\n",
       "      <th></th>\n",
       "      <th>Date</th>\n",
       "      <th>Category</th>\n",
       "      <th>News</th>\n",
       "      <th>Open</th>\n",
       "      <th>High</th>\n",
       "      <th>Low</th>\n",
       "      <th>Close</th>\n",
       "      <th>Adj Close</th>\n",
       "      <th>Volume</th>\n",
       "    </tr>\n",
       "  </thead>\n",
       "  <tbody>\n",
       "    <tr>\n",
       "      <th>0</th>\n",
       "      <td>2017-03-01</td>\n",
       "      <td>life-style.relationships.man-woman</td>\n",
       "      <td>Beginner's guide to rocking sex</td>\n",
       "      <td>26.01</td>\n",
       "      <td>26.379999</td>\n",
       "      <td>25.860001</td>\n",
       "      <td>25.90</td>\n",
       "      <td>24.324486</td>\n",
       "      <td>55900</td>\n",
       "    </tr>\n",
       "    <tr>\n",
       "      <th>1</th>\n",
       "      <td>2017-03-01</td>\n",
       "      <td>city.indore</td>\n",
       "      <td>With only 58 PUC centres; Indore fails to curb...</td>\n",
       "      <td>26.01</td>\n",
       "      <td>26.379999</td>\n",
       "      <td>25.860001</td>\n",
       "      <td>25.90</td>\n",
       "      <td>24.324486</td>\n",
       "      <td>55900</td>\n",
       "    </tr>\n",
       "    <tr>\n",
       "      <th>2</th>\n",
       "      <td>2017-03-01</td>\n",
       "      <td>entertainment.hindi.bollywood</td>\n",
       "      <td>You can't miss Sonakshi Sinha's underwater pic...</td>\n",
       "      <td>26.01</td>\n",
       "      <td>26.379999</td>\n",
       "      <td>25.860001</td>\n",
       "      <td>25.90</td>\n",
       "      <td>24.324486</td>\n",
       "      <td>55900</td>\n",
       "    </tr>\n",
       "    <tr>\n",
       "      <th>3</th>\n",
       "      <td>2017-03-01</td>\n",
       "      <td>entertainment.tamil.movies.news</td>\n",
       "      <td>Cheran and Vijay Sethupathi to team up?</td>\n",
       "      <td>26.01</td>\n",
       "      <td>26.379999</td>\n",
       "      <td>25.860001</td>\n",
       "      <td>25.90</td>\n",
       "      <td>24.324486</td>\n",
       "      <td>55900</td>\n",
       "    </tr>\n",
       "    <tr>\n",
       "      <th>4</th>\n",
       "      <td>2017-03-01</td>\n",
       "      <td>entertainment.tamil.movies.news</td>\n",
       "      <td>Sonia Aggarwal to play a cop in her next</td>\n",
       "      <td>26.01</td>\n",
       "      <td>26.379999</td>\n",
       "      <td>25.860001</td>\n",
       "      <td>25.90</td>\n",
       "      <td>24.324486</td>\n",
       "      <td>55900</td>\n",
       "    </tr>\n",
       "    <tr>\n",
       "      <th>...</th>\n",
       "      <td>...</td>\n",
       "      <td>...</td>\n",
       "      <td>...</td>\n",
       "      <td>...</td>\n",
       "      <td>...</td>\n",
       "      <td>...</td>\n",
       "      <td>...</td>\n",
       "      <td>...</td>\n",
       "      <td>...</td>\n",
       "    </tr>\n",
       "    <tr>\n",
       "      <th>575066</th>\n",
       "      <td>2020-12-31</td>\n",
       "      <td>city.jodhpur</td>\n",
       "      <td>Covid-19: Despite dip in cases; Rajasthan amon...</td>\n",
       "      <td>31.00</td>\n",
       "      <td>31.540001</td>\n",
       "      <td>30.910000</td>\n",
       "      <td>31.32</td>\n",
       "      <td>30.921082</td>\n",
       "      <td>53200</td>\n",
       "    </tr>\n",
       "    <tr>\n",
       "      <th>575067</th>\n",
       "      <td>2020-12-31</td>\n",
       "      <td>city.udaipur</td>\n",
       "      <td>Covid-19: Despite dip in cases; Rajasthan amon...</td>\n",
       "      <td>31.00</td>\n",
       "      <td>31.540001</td>\n",
       "      <td>30.910000</td>\n",
       "      <td>31.32</td>\n",
       "      <td>30.921082</td>\n",
       "      <td>53200</td>\n",
       "    </tr>\n",
       "    <tr>\n",
       "      <th>575068</th>\n",
       "      <td>2020-12-31</td>\n",
       "      <td>city.ajmer</td>\n",
       "      <td>Covid-19: Despite dip in cases; Rajasthan amon...</td>\n",
       "      <td>31.00</td>\n",
       "      <td>31.540001</td>\n",
       "      <td>30.910000</td>\n",
       "      <td>31.32</td>\n",
       "      <td>30.921082</td>\n",
       "      <td>53200</td>\n",
       "    </tr>\n",
       "    <tr>\n",
       "      <th>575069</th>\n",
       "      <td>2020-12-31</td>\n",
       "      <td>removed</td>\n",
       "      <td>Govt extends deadline for use of FASTag till F...</td>\n",
       "      <td>31.00</td>\n",
       "      <td>31.540001</td>\n",
       "      <td>30.910000</td>\n",
       "      <td>31.32</td>\n",
       "      <td>30.921082</td>\n",
       "      <td>53200</td>\n",
       "    </tr>\n",
       "    <tr>\n",
       "      <th>575070</th>\n",
       "      <td>2020-12-31</td>\n",
       "      <td>entertainment.bengali.movies.news</td>\n",
       "      <td>Celebs plan to party safely and responsibly on...</td>\n",
       "      <td>31.00</td>\n",
       "      <td>31.540001</td>\n",
       "      <td>30.910000</td>\n",
       "      <td>31.32</td>\n",
       "      <td>30.921082</td>\n",
       "      <td>53200</td>\n",
       "    </tr>\n",
       "  </tbody>\n",
       "</table>\n",
       "<p>575071 rows × 9 columns</p>\n",
       "</div>"
      ],
      "text/plain": [
       "             Date                            Category  \\\n",
       "0      2017-03-01  life-style.relationships.man-woman   \n",
       "1      2017-03-01                         city.indore   \n",
       "2      2017-03-01       entertainment.hindi.bollywood   \n",
       "3      2017-03-01     entertainment.tamil.movies.news   \n",
       "4      2017-03-01     entertainment.tamil.movies.news   \n",
       "...           ...                                 ...   \n",
       "575066 2020-12-31                        city.jodhpur   \n",
       "575067 2020-12-31                        city.udaipur   \n",
       "575068 2020-12-31                          city.ajmer   \n",
       "575069 2020-12-31                             removed   \n",
       "575070 2020-12-31   entertainment.bengali.movies.news   \n",
       "\n",
       "                                                     News   Open       High  \\\n",
       "0                         Beginner's guide to rocking sex  26.01  26.379999   \n",
       "1       With only 58 PUC centres; Indore fails to curb...  26.01  26.379999   \n",
       "2       You can't miss Sonakshi Sinha's underwater pic...  26.01  26.379999   \n",
       "3                 Cheran and Vijay Sethupathi to team up?  26.01  26.379999   \n",
       "4                Sonia Aggarwal to play a cop in her next  26.01  26.379999   \n",
       "...                                                   ...    ...        ...   \n",
       "575066  Covid-19: Despite dip in cases; Rajasthan amon...  31.00  31.540001   \n",
       "575067  Covid-19: Despite dip in cases; Rajasthan amon...  31.00  31.540001   \n",
       "575068  Covid-19: Despite dip in cases; Rajasthan amon...  31.00  31.540001   \n",
       "575069  Govt extends deadline for use of FASTag till F...  31.00  31.540001   \n",
       "575070  Celebs plan to party safely and responsibly on...  31.00  31.540001   \n",
       "\n",
       "              Low  Close  Adj Close  Volume  \n",
       "0       25.860001  25.90  24.324486   55900  \n",
       "1       25.860001  25.90  24.324486   55900  \n",
       "2       25.860001  25.90  24.324486   55900  \n",
       "3       25.860001  25.90  24.324486   55900  \n",
       "4       25.860001  25.90  24.324486   55900  \n",
       "...           ...    ...        ...     ...  \n",
       "575066  30.910000  31.32  30.921082   53200  \n",
       "575067  30.910000  31.32  30.921082   53200  \n",
       "575068  30.910000  31.32  30.921082   53200  \n",
       "575069  30.910000  31.32  30.921082   53200  \n",
       "575070  30.910000  31.32  30.921082   53200  \n",
       "\n",
       "[575071 rows x 9 columns]"
      ]
     },
     "execution_count": 134,
     "metadata": {},
     "output_type": "execute_result"
    }
   ],
   "source": [
    "hybrid_data = pd.merge(df_news, df_prices, how ='inner', on='Date')\n",
    "hybrid_data"
   ]
  },
  {
   "cell_type": "markdown",
   "metadata": {},
   "source": [
    "## Performing Sentiment Analysis"
   ]
  },
  {
   "cell_type": "code",
   "execution_count": 135,
   "metadata": {},
   "outputs": [],
   "source": [
    "def analysis_polarity(headline):\n",
    "    result = TextBlob(headline)\n",
    "    if result.sentiment.polarity < 0:\n",
    "        return 'negative'\n",
    "    elif result.sentiment.polarity == 0:\n",
    "        return 'neutral'\n",
    "    else:\n",
    "        return 'positive'"
   ]
  },
  {
   "cell_type": "code",
   "execution_count": 138,
   "metadata": {},
   "outputs": [],
   "source": [
    "hybrid_data['sentiment'] = np.array([analysis_polarity(headline) for headline in hybrid_data['News']])"
   ]
  },
  {
   "cell_type": "code",
   "execution_count": 139,
   "metadata": {},
   "outputs": [
    {
     "data": {
      "text/html": [
       "<div>\n",
       "<style scoped>\n",
       "    .dataframe tbody tr th:only-of-type {\n",
       "        vertical-align: middle;\n",
       "    }\n",
       "\n",
       "    .dataframe tbody tr th {\n",
       "        vertical-align: top;\n",
       "    }\n",
       "\n",
       "    .dataframe thead th {\n",
       "        text-align: right;\n",
       "    }\n",
       "</style>\n",
       "<table border=\"1\" class=\"dataframe\">\n",
       "  <thead>\n",
       "    <tr style=\"text-align: right;\">\n",
       "      <th></th>\n",
       "      <th>Date</th>\n",
       "      <th>Category</th>\n",
       "      <th>News</th>\n",
       "      <th>Open</th>\n",
       "      <th>High</th>\n",
       "      <th>Low</th>\n",
       "      <th>Close</th>\n",
       "      <th>Adj Close</th>\n",
       "      <th>Volume</th>\n",
       "      <th>sentiment</th>\n",
       "      <th>neutral</th>\n",
       "      <th>positive</th>\n",
       "      <th>neutral</th>\n",
       "      <th>positive</th>\n",
       "    </tr>\n",
       "  </thead>\n",
       "  <tbody>\n",
       "    <tr>\n",
       "      <th>0</th>\n",
       "      <td>2017-03-01</td>\n",
       "      <td>life-style.relationships.man-woman</td>\n",
       "      <td>Beginner's guide to rocking sex</td>\n",
       "      <td>26.01</td>\n",
       "      <td>26.379999</td>\n",
       "      <td>25.860001</td>\n",
       "      <td>25.9</td>\n",
       "      <td>24.324486</td>\n",
       "      <td>55900</td>\n",
       "      <td>neutral</td>\n",
       "      <td>1</td>\n",
       "      <td>0</td>\n",
       "      <td>1</td>\n",
       "      <td>0</td>\n",
       "    </tr>\n",
       "    <tr>\n",
       "      <th>1</th>\n",
       "      <td>2017-03-01</td>\n",
       "      <td>city.indore</td>\n",
       "      <td>With only 58 PUC centres; Indore fails to curb...</td>\n",
       "      <td>26.01</td>\n",
       "      <td>26.379999</td>\n",
       "      <td>25.860001</td>\n",
       "      <td>25.9</td>\n",
       "      <td>24.324486</td>\n",
       "      <td>55900</td>\n",
       "      <td>negative</td>\n",
       "      <td>0</td>\n",
       "      <td>0</td>\n",
       "      <td>0</td>\n",
       "      <td>0</td>\n",
       "    </tr>\n",
       "    <tr>\n",
       "      <th>2</th>\n",
       "      <td>2017-03-01</td>\n",
       "      <td>entertainment.hindi.bollywood</td>\n",
       "      <td>You can't miss Sonakshi Sinha's underwater pic...</td>\n",
       "      <td>26.01</td>\n",
       "      <td>26.379999</td>\n",
       "      <td>25.860001</td>\n",
       "      <td>25.9</td>\n",
       "      <td>24.324486</td>\n",
       "      <td>55900</td>\n",
       "      <td>neutral</td>\n",
       "      <td>1</td>\n",
       "      <td>0</td>\n",
       "      <td>1</td>\n",
       "      <td>0</td>\n",
       "    </tr>\n",
       "    <tr>\n",
       "      <th>3</th>\n",
       "      <td>2017-03-01</td>\n",
       "      <td>entertainment.tamil.movies.news</td>\n",
       "      <td>Cheran and Vijay Sethupathi to team up?</td>\n",
       "      <td>26.01</td>\n",
       "      <td>26.379999</td>\n",
       "      <td>25.860001</td>\n",
       "      <td>25.9</td>\n",
       "      <td>24.324486</td>\n",
       "      <td>55900</td>\n",
       "      <td>neutral</td>\n",
       "      <td>1</td>\n",
       "      <td>0</td>\n",
       "      <td>1</td>\n",
       "      <td>0</td>\n",
       "    </tr>\n",
       "    <tr>\n",
       "      <th>4</th>\n",
       "      <td>2017-03-01</td>\n",
       "      <td>entertainment.tamil.movies.news</td>\n",
       "      <td>Sonia Aggarwal to play a cop in her next</td>\n",
       "      <td>26.01</td>\n",
       "      <td>26.379999</td>\n",
       "      <td>25.860001</td>\n",
       "      <td>25.9</td>\n",
       "      <td>24.324486</td>\n",
       "      <td>55900</td>\n",
       "      <td>neutral</td>\n",
       "      <td>1</td>\n",
       "      <td>0</td>\n",
       "      <td>1</td>\n",
       "      <td>0</td>\n",
       "    </tr>\n",
       "  </tbody>\n",
       "</table>\n",
       "</div>"
      ],
      "text/plain": [
       "        Date                            Category  \\\n",
       "0 2017-03-01  life-style.relationships.man-woman   \n",
       "1 2017-03-01                         city.indore   \n",
       "2 2017-03-01       entertainment.hindi.bollywood   \n",
       "3 2017-03-01     entertainment.tamil.movies.news   \n",
       "4 2017-03-01     entertainment.tamil.movies.news   \n",
       "\n",
       "                                                News   Open       High  \\\n",
       "0                    Beginner's guide to rocking sex  26.01  26.379999   \n",
       "1  With only 58 PUC centres; Indore fails to curb...  26.01  26.379999   \n",
       "2  You can't miss Sonakshi Sinha's underwater pic...  26.01  26.379999   \n",
       "3            Cheran and Vijay Sethupathi to team up?  26.01  26.379999   \n",
       "4           Sonia Aggarwal to play a cop in her next  26.01  26.379999   \n",
       "\n",
       "         Low  Close  Adj Close  Volume sentiment  neutral  positive  neutral  \\\n",
       "0  25.860001   25.9  24.324486   55900   neutral        1         0        1   \n",
       "1  25.860001   25.9  24.324486   55900  negative        0         0        0   \n",
       "2  25.860001   25.9  24.324486   55900   neutral        1         0        1   \n",
       "3  25.860001   25.9  24.324486   55900   neutral        1         0        1   \n",
       "4  25.860001   25.9  24.324486   55900   neutral        1         0        1   \n",
       "\n",
       "   positive  \n",
       "0         0  \n",
       "1         0  \n",
       "2         0  \n",
       "3         0  \n",
       "4         0  "
      ]
     },
     "execution_count": 139,
     "metadata": {},
     "output_type": "execute_result"
    }
   ],
   "source": [
    "senti_data = pd.get_dummies(hybrid_data['sentiment'],drop_first=True)\n",
    "hybrid_data = pd.concat([hybrid_data,senti_data],axis=1)\n",
    "hybrid_data.head()"
   ]
  },
  {
   "cell_type": "markdown",
   "metadata": {},
   "source": [
    "## Subjectivity and Polarity Scores"
   ]
  },
  {
   "cell_type": "code",
   "execution_count": 140,
   "metadata": {},
   "outputs": [],
   "source": [
    "def getSubjectivity(text):\n",
    "  return TextBlob(text).sentiment.subjectivity\n",
    "def getPolarity(text):\n",
    "  return  TextBlob(text).sentiment.polarity"
   ]
  },
  {
   "cell_type": "code",
   "execution_count": 142,
   "metadata": {},
   "outputs": [
    {
     "data": {
      "text/html": [
       "<div>\n",
       "<style scoped>\n",
       "    .dataframe tbody tr th:only-of-type {\n",
       "        vertical-align: middle;\n",
       "    }\n",
       "\n",
       "    .dataframe tbody tr th {\n",
       "        vertical-align: top;\n",
       "    }\n",
       "\n",
       "    .dataframe thead th {\n",
       "        text-align: right;\n",
       "    }\n",
       "</style>\n",
       "<table border=\"1\" class=\"dataframe\">\n",
       "  <thead>\n",
       "    <tr style=\"text-align: right;\">\n",
       "      <th></th>\n",
       "      <th>Date</th>\n",
       "      <th>Category</th>\n",
       "      <th>News</th>\n",
       "      <th>Open</th>\n",
       "      <th>High</th>\n",
       "      <th>Low</th>\n",
       "      <th>Close</th>\n",
       "      <th>Adj Close</th>\n",
       "      <th>Volume</th>\n",
       "      <th>sentiment</th>\n",
       "      <th>neutral</th>\n",
       "      <th>positive</th>\n",
       "      <th>neutral</th>\n",
       "      <th>positive</th>\n",
       "      <th>Subjectivity</th>\n",
       "      <th>Polarity</th>\n",
       "    </tr>\n",
       "  </thead>\n",
       "  <tbody>\n",
       "    <tr>\n",
       "      <th>0</th>\n",
       "      <td>2017-03-01</td>\n",
       "      <td>life-style.relationships.man-woman</td>\n",
       "      <td>Beginner's guide to rocking sex</td>\n",
       "      <td>26.01</td>\n",
       "      <td>26.379999</td>\n",
       "      <td>25.860001</td>\n",
       "      <td>25.9</td>\n",
       "      <td>24.324486</td>\n",
       "      <td>55900</td>\n",
       "      <td>neutral</td>\n",
       "      <td>1</td>\n",
       "      <td>0</td>\n",
       "      <td>1</td>\n",
       "      <td>0</td>\n",
       "      <td>0.00</td>\n",
       "      <td>0.00</td>\n",
       "    </tr>\n",
       "    <tr>\n",
       "      <th>1</th>\n",
       "      <td>2017-03-01</td>\n",
       "      <td>city.indore</td>\n",
       "      <td>With only 58 PUC centres; Indore fails to curb...</td>\n",
       "      <td>26.01</td>\n",
       "      <td>26.379999</td>\n",
       "      <td>25.860001</td>\n",
       "      <td>25.9</td>\n",
       "      <td>24.324486</td>\n",
       "      <td>55900</td>\n",
       "      <td>negative</td>\n",
       "      <td>0</td>\n",
       "      <td>0</td>\n",
       "      <td>0</td>\n",
       "      <td>0</td>\n",
       "      <td>0.65</td>\n",
       "      <td>-0.25</td>\n",
       "    </tr>\n",
       "    <tr>\n",
       "      <th>2</th>\n",
       "      <td>2017-03-01</td>\n",
       "      <td>entertainment.hindi.bollywood</td>\n",
       "      <td>You can't miss Sonakshi Sinha's underwater pic...</td>\n",
       "      <td>26.01</td>\n",
       "      <td>26.379999</td>\n",
       "      <td>25.860001</td>\n",
       "      <td>25.9</td>\n",
       "      <td>24.324486</td>\n",
       "      <td>55900</td>\n",
       "      <td>neutral</td>\n",
       "      <td>1</td>\n",
       "      <td>0</td>\n",
       "      <td>1</td>\n",
       "      <td>0</td>\n",
       "      <td>0.00</td>\n",
       "      <td>0.00</td>\n",
       "    </tr>\n",
       "    <tr>\n",
       "      <th>3</th>\n",
       "      <td>2017-03-01</td>\n",
       "      <td>entertainment.tamil.movies.news</td>\n",
       "      <td>Cheran and Vijay Sethupathi to team up?</td>\n",
       "      <td>26.01</td>\n",
       "      <td>26.379999</td>\n",
       "      <td>25.860001</td>\n",
       "      <td>25.9</td>\n",
       "      <td>24.324486</td>\n",
       "      <td>55900</td>\n",
       "      <td>neutral</td>\n",
       "      <td>1</td>\n",
       "      <td>0</td>\n",
       "      <td>1</td>\n",
       "      <td>0</td>\n",
       "      <td>0.00</td>\n",
       "      <td>0.00</td>\n",
       "    </tr>\n",
       "    <tr>\n",
       "      <th>4</th>\n",
       "      <td>2017-03-01</td>\n",
       "      <td>entertainment.tamil.movies.news</td>\n",
       "      <td>Sonia Aggarwal to play a cop in her next</td>\n",
       "      <td>26.01</td>\n",
       "      <td>26.379999</td>\n",
       "      <td>25.860001</td>\n",
       "      <td>25.9</td>\n",
       "      <td>24.324486</td>\n",
       "      <td>55900</td>\n",
       "      <td>neutral</td>\n",
       "      <td>1</td>\n",
       "      <td>0</td>\n",
       "      <td>1</td>\n",
       "      <td>0</td>\n",
       "      <td>0.00</td>\n",
       "      <td>0.00</td>\n",
       "    </tr>\n",
       "  </tbody>\n",
       "</table>\n",
       "</div>"
      ],
      "text/plain": [
       "        Date                            Category  \\\n",
       "0 2017-03-01  life-style.relationships.man-woman   \n",
       "1 2017-03-01                         city.indore   \n",
       "2 2017-03-01       entertainment.hindi.bollywood   \n",
       "3 2017-03-01     entertainment.tamil.movies.news   \n",
       "4 2017-03-01     entertainment.tamil.movies.news   \n",
       "\n",
       "                                                News   Open       High  \\\n",
       "0                    Beginner's guide to rocking sex  26.01  26.379999   \n",
       "1  With only 58 PUC centres; Indore fails to curb...  26.01  26.379999   \n",
       "2  You can't miss Sonakshi Sinha's underwater pic...  26.01  26.379999   \n",
       "3            Cheran and Vijay Sethupathi to team up?  26.01  26.379999   \n",
       "4           Sonia Aggarwal to play a cop in her next  26.01  26.379999   \n",
       "\n",
       "         Low  Close  Adj Close  Volume sentiment  neutral  positive  neutral  \\\n",
       "0  25.860001   25.9  24.324486   55900   neutral        1         0        1   \n",
       "1  25.860001   25.9  24.324486   55900  negative        0         0        0   \n",
       "2  25.860001   25.9  24.324486   55900   neutral        1         0        1   \n",
       "3  25.860001   25.9  24.324486   55900   neutral        1         0        1   \n",
       "4  25.860001   25.9  24.324486   55900   neutral        1         0        1   \n",
       "\n",
       "   positive  Subjectivity  Polarity  \n",
       "0         0          0.00      0.00  \n",
       "1         0          0.65     -0.25  \n",
       "2         0          0.00      0.00  \n",
       "3         0          0.00      0.00  \n",
       "4         0          0.00      0.00  "
      ]
     },
     "execution_count": 142,
     "metadata": {},
     "output_type": "execute_result"
    }
   ],
   "source": [
    "hybrid_data['Subjectivity'] =hybrid_data['News'].apply(getSubjectivity)\n",
    "hybrid_data['Polarity'] = hybrid_data['News'].apply(getPolarity)\n",
    "hybrid_data.head()"
   ]
  }
 ],
 "metadata": {
  "interpreter": {
   "hash": "38d51dd8e8d25c2b4859ddf5fde4d8615b38902fd48d30a19bf46ddb81d406a6"
  },
  "kernelspec": {
   "display_name": "Python 3.9.10 64-bit (windows store)",
   "language": "python",
   "name": "python3"
  },
  "language_info": {
   "codemirror_mode": {
    "name": "ipython",
    "version": 3
   },
   "file_extension": ".py",
   "mimetype": "text/x-python",
   "name": "python",
   "nbconvert_exporter": "python",
   "pygments_lexer": "ipython3",
   "version": "3.8.10"
  },
  "orig_nbformat": 4
 },
 "nbformat": 4,
 "nbformat_minor": 2
}
