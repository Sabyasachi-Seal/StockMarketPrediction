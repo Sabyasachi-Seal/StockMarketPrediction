{
 "cells": [
  {
   "cell_type": "markdown",
   "metadata": {},
   "source": [
    "# The Sparks Foundation"
   ]
  },
  {
   "cell_type": "markdown",
   "metadata": {},
   "source": [
    "## Data Science and Business Analytics"
   ]
  },
  {
   "cell_type": "markdown",
   "metadata": {},
   "source": [
    "### Stock Market Prediction using Numerical and Textual Analysis - By Sabyasachi Seal"
   ]
  },
  {
   "cell_type": "markdown",
   "metadata": {},
   "source": [
    "<hr>"
   ]
  },
  {
   "cell_type": "markdown",
   "metadata": {},
   "source": [
    "## Importing the libraries"
   ]
  },
  {
   "cell_type": "code",
   "execution_count": 81,
   "metadata": {},
   "outputs": [],
   "source": [
    "from sklearn.preprocessing import MinMaxScaler\n",
    "from sklearn.metrics import mean_squared_error\n",
    "from keras.layers import Dense, LSTM\n",
    "from keras.models import Sequential\n",
    "import matplotlib.pyplot as plt\n",
    "import matplotlib.pyplot as plt\n",
    "from textblob import TextBlob\n",
    "from datetime import datetime\n",
    "from sklearn import metrics \n",
    "import pandas as pd \n",
    "import numpy as np\n",
    "import math"
   ]
  },
  {
   "cell_type": "markdown",
   "metadata": {},
   "source": [
    "## Loading and Testing Stock Market Dataset"
   ]
  },
  {
   "cell_type": "code",
   "execution_count": 82,
   "metadata": {},
   "outputs": [
    {
     "data": {
      "text/html": [
       "<div>\n",
       "<style scoped>\n",
       "    .dataframe tbody tr th:only-of-type {\n",
       "        vertical-align: middle;\n",
       "    }\n",
       "\n",
       "    .dataframe tbody tr th {\n",
       "        vertical-align: top;\n",
       "    }\n",
       "\n",
       "    .dataframe thead th {\n",
       "        text-align: right;\n",
       "    }\n",
       "</style>\n",
       "<table border=\"1\" class=\"dataframe\">\n",
       "  <thead>\n",
       "    <tr style=\"text-align: right;\">\n",
       "      <th></th>\n",
       "      <th>Date</th>\n",
       "      <th>Open</th>\n",
       "      <th>High</th>\n",
       "      <th>Low</th>\n",
       "      <th>Close</th>\n",
       "      <th>Adj Close</th>\n",
       "      <th>Volume</th>\n",
       "    </tr>\n",
       "  </thead>\n",
       "  <tbody>\n",
       "    <tr>\n",
       "      <th>0</th>\n",
       "      <td>2017-03-01</td>\n",
       "      <td>26.010000</td>\n",
       "      <td>26.379999</td>\n",
       "      <td>25.860001</td>\n",
       "      <td>25.900000</td>\n",
       "      <td>24.324486</td>\n",
       "      <td>55900</td>\n",
       "    </tr>\n",
       "    <tr>\n",
       "      <th>1</th>\n",
       "      <td>2017-03-02</td>\n",
       "      <td>25.830000</td>\n",
       "      <td>25.920000</td>\n",
       "      <td>25.660000</td>\n",
       "      <td>25.770000</td>\n",
       "      <td>24.202393</td>\n",
       "      <td>41800</td>\n",
       "    </tr>\n",
       "    <tr>\n",
       "      <th>2</th>\n",
       "      <td>2017-03-03</td>\n",
       "      <td>25.780001</td>\n",
       "      <td>26.070000</td>\n",
       "      <td>25.459999</td>\n",
       "      <td>25.780001</td>\n",
       "      <td>24.211786</td>\n",
       "      <td>70400</td>\n",
       "    </tr>\n",
       "    <tr>\n",
       "      <th>3</th>\n",
       "      <td>2017-03-06</td>\n",
       "      <td>25.680000</td>\n",
       "      <td>25.889999</td>\n",
       "      <td>25.440001</td>\n",
       "      <td>25.830000</td>\n",
       "      <td>24.258745</td>\n",
       "      <td>42600</td>\n",
       "    </tr>\n",
       "    <tr>\n",
       "      <th>4</th>\n",
       "      <td>2017-03-07</td>\n",
       "      <td>25.700001</td>\n",
       "      <td>25.879999</td>\n",
       "      <td>25.549999</td>\n",
       "      <td>25.840000</td>\n",
       "      <td>24.268139</td>\n",
       "      <td>45600</td>\n",
       "    </tr>\n",
       "  </tbody>\n",
       "</table>\n",
       "</div>"
      ],
      "text/plain": [
       "         Date       Open       High        Low      Close  Adj Close  Volume\n",
       "0  2017-03-01  26.010000  26.379999  25.860001  25.900000  24.324486   55900\n",
       "1  2017-03-02  25.830000  25.920000  25.660000  25.770000  24.202393   41800\n",
       "2  2017-03-03  25.780001  26.070000  25.459999  25.780001  24.211786   70400\n",
       "3  2017-03-06  25.680000  25.889999  25.440001  25.830000  24.258745   42600\n",
       "4  2017-03-07  25.700001  25.879999  25.549999  25.840000  24.268139   45600"
      ]
     },
     "execution_count": 82,
     "metadata": {},
     "output_type": "execute_result"
    }
   ],
   "source": [
    "df_prices = pd.read_csv('Datasets/stockprices.csv')\n",
    "df_prices.head()"
   ]
  },
  {
   "cell_type": "markdown",
   "metadata": {},
   "source": [
    "## Loading and Testing News Dataset"
   ]
  },
  {
   "cell_type": "code",
   "execution_count": 83,
   "metadata": {},
   "outputs": [
    {
     "data": {
      "text/html": [
       "<div>\n",
       "<style scoped>\n",
       "    .dataframe tbody tr th:only-of-type {\n",
       "        vertical-align: middle;\n",
       "    }\n",
       "\n",
       "    .dataframe tbody tr th {\n",
       "        vertical-align: top;\n",
       "    }\n",
       "\n",
       "    .dataframe thead th {\n",
       "        text-align: right;\n",
       "    }\n",
       "</style>\n",
       "<table border=\"1\" class=\"dataframe\">\n",
       "  <thead>\n",
       "    <tr style=\"text-align: right;\">\n",
       "      <th></th>\n",
       "      <th>Date</th>\n",
       "      <th>Category</th>\n",
       "      <th>News</th>\n",
       "    </tr>\n",
       "  </thead>\n",
       "  <tbody>\n",
       "    <tr>\n",
       "      <th>0</th>\n",
       "      <td>20010102</td>\n",
       "      <td>unknown</td>\n",
       "      <td>Status quo will not be disturbed at Ayodhya; s...</td>\n",
       "    </tr>\n",
       "    <tr>\n",
       "      <th>1</th>\n",
       "      <td>20010102</td>\n",
       "      <td>unknown</td>\n",
       "      <td>Fissures in Hurriyat over Pak visit</td>\n",
       "    </tr>\n",
       "    <tr>\n",
       "      <th>2</th>\n",
       "      <td>20010102</td>\n",
       "      <td>unknown</td>\n",
       "      <td>America's unwanted heading for India?</td>\n",
       "    </tr>\n",
       "    <tr>\n",
       "      <th>3</th>\n",
       "      <td>20010102</td>\n",
       "      <td>unknown</td>\n",
       "      <td>For bigwigs; it is destination Goa</td>\n",
       "    </tr>\n",
       "    <tr>\n",
       "      <th>4</th>\n",
       "      <td>20010102</td>\n",
       "      <td>unknown</td>\n",
       "      <td>Extra buses to clear tourist traffic</td>\n",
       "    </tr>\n",
       "    <tr>\n",
       "      <th>...</th>\n",
       "      <td>...</td>\n",
       "      <td>...</td>\n",
       "      <td>...</td>\n",
       "    </tr>\n",
       "    <tr>\n",
       "      <th>149995</th>\n",
       "      <td>20021015</td>\n",
       "      <td>india</td>\n",
       "      <td>Post polls; India cringes as Pak finds acceptance</td>\n",
       "    </tr>\n",
       "    <tr>\n",
       "      <th>149996</th>\n",
       "      <td>20021015</td>\n",
       "      <td>india</td>\n",
       "      <td>Bangladesh is al-Qaeda's new haven: Time</td>\n",
       "    </tr>\n",
       "    <tr>\n",
       "      <th>149997</th>\n",
       "      <td>20021015</td>\n",
       "      <td>india</td>\n",
       "      <td>Hawk deal not finalised yet: India to UK</td>\n",
       "    </tr>\n",
       "    <tr>\n",
       "      <th>149998</th>\n",
       "      <td>20021015</td>\n",
       "      <td>city.kolkata</td>\n",
       "      <td>A helping hand to clear clinical waste</td>\n",
       "    </tr>\n",
       "    <tr>\n",
       "      <th>149999</th>\n",
       "      <td>20021015</td>\n",
       "      <td>city.kolkata</td>\n",
       "      <td>Designer jewellery: Home-made is best</td>\n",
       "    </tr>\n",
       "  </tbody>\n",
       "</table>\n",
       "<p>150000 rows × 3 columns</p>\n",
       "</div>"
      ],
      "text/plain": [
       "            Date      Category  \\\n",
       "0       20010102       unknown   \n",
       "1       20010102       unknown   \n",
       "2       20010102       unknown   \n",
       "3       20010102       unknown   \n",
       "4       20010102       unknown   \n",
       "...          ...           ...   \n",
       "149995  20021015         india   \n",
       "149996  20021015         india   \n",
       "149997  20021015         india   \n",
       "149998  20021015  city.kolkata   \n",
       "149999  20021015  city.kolkata   \n",
       "\n",
       "                                                     News  \n",
       "0       Status quo will not be disturbed at Ayodhya; s...  \n",
       "1                     Fissures in Hurriyat over Pak visit  \n",
       "2                   America's unwanted heading for India?  \n",
       "3                      For bigwigs; it is destination Goa  \n",
       "4                    Extra buses to clear tourist traffic  \n",
       "...                                                   ...  \n",
       "149995  Post polls; India cringes as Pak finds acceptance  \n",
       "149996           Bangladesh is al-Qaeda's new haven: Time  \n",
       "149997           Hawk deal not finalised yet: India to UK  \n",
       "149998             A helping hand to clear clinical waste  \n",
       "149999              Designer jewellery: Home-made is best  \n",
       "\n",
       "[150000 rows x 3 columns]"
      ]
     },
     "execution_count": 83,
     "metadata": {},
     "output_type": "execute_result"
    }
   ],
   "source": [
    "cols = ['Date', 'Category', 'News']\n",
    "df_news = pd.read_csv(\"Datasets/news.csv\", names=cols)\n",
    "df_news = df_news.dropna(axis=0, how='any')\n",
    "df_news"
   ]
  },
  {
   "cell_type": "markdown",
   "metadata": {},
   "source": [
    "## Cleaning Data - Dropping Unwanted Values"
   ]
  },
  {
   "cell_type": "code",
   "execution_count": 84,
   "metadata": {},
   "outputs": [
    {
     "data": {
      "text/html": [
       "<div>\n",
       "<style scoped>\n",
       "    .dataframe tbody tr th:only-of-type {\n",
       "        vertical-align: middle;\n",
       "    }\n",
       "\n",
       "    .dataframe tbody tr th {\n",
       "        vertical-align: top;\n",
       "    }\n",
       "\n",
       "    .dataframe thead th {\n",
       "        text-align: right;\n",
       "    }\n",
       "</style>\n",
       "<table border=\"1\" class=\"dataframe\">\n",
       "  <thead>\n",
       "    <tr style=\"text-align: right;\">\n",
       "      <th></th>\n",
       "      <th>index</th>\n",
       "      <th>Date</th>\n",
       "      <th>Category</th>\n",
       "      <th>News</th>\n",
       "    </tr>\n",
       "  </thead>\n",
       "  <tbody>\n",
       "    <tr>\n",
       "      <th>0</th>\n",
       "      <td>0</td>\n",
       "      <td>20010102</td>\n",
       "      <td>unknown</td>\n",
       "      <td>Status quo will not be disturbed at Ayodhya; s...</td>\n",
       "    </tr>\n",
       "    <tr>\n",
       "      <th>1</th>\n",
       "      <td>86</td>\n",
       "      <td>20010103</td>\n",
       "      <td>unknown</td>\n",
       "      <td>Powerless north India gropes in the dark</td>\n",
       "    </tr>\n",
       "    <tr>\n",
       "      <th>2</th>\n",
       "      <td>127</td>\n",
       "      <td>20010104</td>\n",
       "      <td>unknown</td>\n",
       "      <td>The string that pulled Stephen Hawking to India</td>\n",
       "    </tr>\n",
       "    <tr>\n",
       "      <th>3</th>\n",
       "      <td>280</td>\n",
       "      <td>20010105</td>\n",
       "      <td>unknown</td>\n",
       "      <td>Light combat craft takes India into club class</td>\n",
       "    </tr>\n",
       "    <tr>\n",
       "      <th>4</th>\n",
       "      <td>406</td>\n",
       "      <td>20010106</td>\n",
       "      <td>unknown</td>\n",
       "      <td>Light combat craft takes India into club class</td>\n",
       "    </tr>\n",
       "    <tr>\n",
       "      <th>...</th>\n",
       "      <td>...</td>\n",
       "      <td>...</td>\n",
       "      <td>...</td>\n",
       "      <td>...</td>\n",
       "    </tr>\n",
       "    <tr>\n",
       "      <th>605</th>\n",
       "      <td>148794</td>\n",
       "      <td>20021011</td>\n",
       "      <td>business.india-business</td>\n",
       "      <td>Infy beats estimates; ups projection</td>\n",
       "    </tr>\n",
       "    <tr>\n",
       "      <th>606</th>\n",
       "      <td>149187</td>\n",
       "      <td>20021012</td>\n",
       "      <td>unknown</td>\n",
       "      <td>Tabreez set to conquer</td>\n",
       "    </tr>\n",
       "    <tr>\n",
       "      <th>607</th>\n",
       "      <td>149437</td>\n",
       "      <td>20021013</td>\n",
       "      <td>unknown</td>\n",
       "      <td>Note by note</td>\n",
       "    </tr>\n",
       "    <tr>\n",
       "      <th>608</th>\n",
       "      <td>149691</td>\n",
       "      <td>20021014</td>\n",
       "      <td>unknown</td>\n",
       "      <td>India lose to S Korea in men's hockey final</td>\n",
       "    </tr>\n",
       "    <tr>\n",
       "      <th>609</th>\n",
       "      <td>149942</td>\n",
       "      <td>20021015</td>\n",
       "      <td>unknown</td>\n",
       "      <td>Velappan pleased with Indian show</td>\n",
       "    </tr>\n",
       "  </tbody>\n",
       "</table>\n",
       "<p>610 rows × 4 columns</p>\n",
       "</div>"
      ],
      "text/plain": [
       "      index      Date                 Category  \\\n",
       "0         0  20010102                  unknown   \n",
       "1        86  20010103                  unknown   \n",
       "2       127  20010104                  unknown   \n",
       "3       280  20010105                  unknown   \n",
       "4       406  20010106                  unknown   \n",
       "..      ...       ...                      ...   \n",
       "605  148794  20021011  business.india-business   \n",
       "606  149187  20021012                  unknown   \n",
       "607  149437  20021013                  unknown   \n",
       "608  149691  20021014                  unknown   \n",
       "609  149942  20021015                  unknown   \n",
       "\n",
       "                                                  News  \n",
       "0    Status quo will not be disturbed at Ayodhya; s...  \n",
       "1             Powerless north India gropes in the dark  \n",
       "2      The string that pulled Stephen Hawking to India  \n",
       "3       Light combat craft takes India into club class  \n",
       "4       Light combat craft takes India into club class  \n",
       "..                                                 ...  \n",
       "605               Infy beats estimates; ups projection  \n",
       "606                             Tabreez set to conquer  \n",
       "607                                       Note by note  \n",
       "608        India lose to S Korea in men's hockey final  \n",
       "609                  Velappan pleased with Indian show  \n",
       "\n",
       "[610 rows x 4 columns]"
      ]
     },
     "execution_count": 84,
     "metadata": {},
     "output_type": "execute_result"
    }
   ],
   "source": [
    "df_news = df_news.drop_duplicates('Date', keep='first').sort_index()\n",
    "df_news = df_news.reset_index()\n",
    "df_news"
   ]
  },
  {
   "cell_type": "markdown",
   "metadata": {},
   "source": [
    "## Storing City Data"
   ]
  },
  {
   "cell_type": "code",
   "execution_count": 85,
   "metadata": {},
   "outputs": [
    {
     "data": {
      "text/html": [
       "<div>\n",
       "<style scoped>\n",
       "    .dataframe tbody tr th:only-of-type {\n",
       "        vertical-align: middle;\n",
       "    }\n",
       "\n",
       "    .dataframe tbody tr th {\n",
       "        vertical-align: top;\n",
       "    }\n",
       "\n",
       "    .dataframe thead th {\n",
       "        text-align: right;\n",
       "    }\n",
       "</style>\n",
       "<table border=\"1\" class=\"dataframe\">\n",
       "  <thead>\n",
       "    <tr style=\"text-align: right;\">\n",
       "      <th></th>\n",
       "      <th>index</th>\n",
       "      <th>Date</th>\n",
       "      <th>Category</th>\n",
       "      <th>News</th>\n",
       "    </tr>\n",
       "  </thead>\n",
       "  <tbody>\n",
       "    <tr>\n",
       "      <th>8</th>\n",
       "      <td>642</td>\n",
       "      <td>20010110</td>\n",
       "      <td>city.patna</td>\n",
       "      <td>Fend for yourselves; Pande tells doctors</td>\n",
       "    </tr>\n",
       "    <tr>\n",
       "      <th>48</th>\n",
       "      <td>2215</td>\n",
       "      <td>20010309</td>\n",
       "      <td>city.delhi</td>\n",
       "      <td>Maneka asks govt to take back land for cow she...</td>\n",
       "    </tr>\n",
       "    <tr>\n",
       "      <th>114</th>\n",
       "      <td>4563</td>\n",
       "      <td>20010522</td>\n",
       "      <td>city.pune</td>\n",
       "      <td>She turned and fought</td>\n",
       "    </tr>\n",
       "    <tr>\n",
       "      <th>116</th>\n",
       "      <td>4693</td>\n",
       "      <td>20010527</td>\n",
       "      <td>city.bengaluru</td>\n",
       "      <td>Need to boost exports; says bank head</td>\n",
       "    </tr>\n",
       "    <tr>\n",
       "      <th>118</th>\n",
       "      <td>4917</td>\n",
       "      <td>20010529</td>\n",
       "      <td>city.bengaluru</td>\n",
       "      <td>US visit won't be piece of cake for Krishna</td>\n",
       "    </tr>\n",
       "    <tr>\n",
       "      <th>...</th>\n",
       "      <td>...</td>\n",
       "      <td>...</td>\n",
       "      <td>...</td>\n",
       "      <td>...</td>\n",
       "    </tr>\n",
       "    <tr>\n",
       "      <th>560</th>\n",
       "      <td>136831</td>\n",
       "      <td>20020827</td>\n",
       "      <td>city.hyderabad</td>\n",
       "      <td>Saki haunts night safari plan</td>\n",
       "    </tr>\n",
       "    <tr>\n",
       "      <th>573</th>\n",
       "      <td>140647</td>\n",
       "      <td>20020909</td>\n",
       "      <td>city.ahmedabad</td>\n",
       "      <td>Rs 1.33 lakh stolen from Ahmedabad post office</td>\n",
       "    </tr>\n",
       "    <tr>\n",
       "      <th>575</th>\n",
       "      <td>141210</td>\n",
       "      <td>20020911</td>\n",
       "      <td>city.mumbai</td>\n",
       "      <td>NGO opposes duty waiver on Sachin's Ferrari</td>\n",
       "    </tr>\n",
       "    <tr>\n",
       "      <th>586</th>\n",
       "      <td>143921</td>\n",
       "      <td>20020922</td>\n",
       "      <td>city.kolkata</td>\n",
       "      <td>SC asks state govt to explain custody deaths</td>\n",
       "    </tr>\n",
       "    <tr>\n",
       "      <th>603</th>\n",
       "      <td>148318</td>\n",
       "      <td>20021009</td>\n",
       "      <td>city.lucknow</td>\n",
       "      <td>State cabinet to be expanded on Oct 11</td>\n",
       "    </tr>\n",
       "  </tbody>\n",
       "</table>\n",
       "<p>168 rows × 4 columns</p>\n",
       "</div>"
      ],
      "text/plain": [
       "      index      Date        Category  \\\n",
       "8       642  20010110      city.patna   \n",
       "48     2215  20010309      city.delhi   \n",
       "114    4563  20010522       city.pune   \n",
       "116    4693  20010527  city.bengaluru   \n",
       "118    4917  20010529  city.bengaluru   \n",
       "..      ...       ...             ...   \n",
       "560  136831  20020827  city.hyderabad   \n",
       "573  140647  20020909  city.ahmedabad   \n",
       "575  141210  20020911     city.mumbai   \n",
       "586  143921  20020922    city.kolkata   \n",
       "603  148318  20021009    city.lucknow   \n",
       "\n",
       "                                                  News  \n",
       "8             Fend for yourselves; Pande tells doctors  \n",
       "48   Maneka asks govt to take back land for cow she...  \n",
       "114                              She turned and fought  \n",
       "116              Need to boost exports; says bank head  \n",
       "118        US visit won't be piece of cake for Krishna  \n",
       "..                                                 ...  \n",
       "560                      Saki haunts night safari plan  \n",
       "573     Rs 1.33 lakh stolen from Ahmedabad post office  \n",
       "575        NGO opposes duty waiver on Sachin's Ferrari  \n",
       "586       SC asks state govt to explain custody deaths  \n",
       "603             State cabinet to be expanded on Oct 11  \n",
       "\n",
       "[168 rows x 4 columns]"
      ]
     },
     "execution_count": 85,
     "metadata": {},
     "output_type": "execute_result"
    }
   ],
   "source": [
    "city_data = df_news[df_news['Category'].str.contains('^city\\.[a-z]+$', regex=True)]\n",
    "city_data"
   ]
  },
  {
   "cell_type": "markdown",
   "metadata": {},
   "source": [
    "## Extracting City Data"
   ]
  },
  {
   "cell_type": "code",
   "execution_count": 86,
   "metadata": {},
   "outputs": [
    {
     "data": {
      "text/html": [
       "<div>\n",
       "<style scoped>\n",
       "    .dataframe tbody tr th:only-of-type {\n",
       "        vertical-align: middle;\n",
       "    }\n",
       "\n",
       "    .dataframe tbody tr th {\n",
       "        vertical-align: top;\n",
       "    }\n",
       "\n",
       "    .dataframe thead th {\n",
       "        text-align: right;\n",
       "    }\n",
       "</style>\n",
       "<table border=\"1\" class=\"dataframe\">\n",
       "  <thead>\n",
       "    <tr style=\"text-align: right;\">\n",
       "      <th></th>\n",
       "      <th>Date</th>\n",
       "      <th>News</th>\n",
       "      <th>City_Name</th>\n",
       "    </tr>\n",
       "  </thead>\n",
       "  <tbody>\n",
       "    <tr>\n",
       "      <th>0</th>\n",
       "      <td>20010110</td>\n",
       "      <td>Fend for yourselves; Pande tells doctors</td>\n",
       "      <td>patna</td>\n",
       "    </tr>\n",
       "    <tr>\n",
       "      <th>1</th>\n",
       "      <td>20010309</td>\n",
       "      <td>Maneka asks govt to take back land for cow she...</td>\n",
       "      <td>delhi</td>\n",
       "    </tr>\n",
       "    <tr>\n",
       "      <th>2</th>\n",
       "      <td>20010522</td>\n",
       "      <td>She turned and fought</td>\n",
       "      <td>pune</td>\n",
       "    </tr>\n",
       "    <tr>\n",
       "      <th>3</th>\n",
       "      <td>20010527</td>\n",
       "      <td>Need to boost exports; says bank head</td>\n",
       "      <td>bengaluru</td>\n",
       "    </tr>\n",
       "    <tr>\n",
       "      <th>4</th>\n",
       "      <td>20010529</td>\n",
       "      <td>US visit won't be piece of cake for Krishna</td>\n",
       "      <td>bengaluru</td>\n",
       "    </tr>\n",
       "    <tr>\n",
       "      <th>...</th>\n",
       "      <td>...</td>\n",
       "      <td>...</td>\n",
       "      <td>...</td>\n",
       "    </tr>\n",
       "    <tr>\n",
       "      <th>163</th>\n",
       "      <td>20020827</td>\n",
       "      <td>Saki haunts night safari plan</td>\n",
       "      <td>hyderabad</td>\n",
       "    </tr>\n",
       "    <tr>\n",
       "      <th>164</th>\n",
       "      <td>20020909</td>\n",
       "      <td>Rs 1.33 lakh stolen from Ahmedabad post office</td>\n",
       "      <td>ahmedabad</td>\n",
       "    </tr>\n",
       "    <tr>\n",
       "      <th>165</th>\n",
       "      <td>20020911</td>\n",
       "      <td>NGO opposes duty waiver on Sachin's Ferrari</td>\n",
       "      <td>mumbai</td>\n",
       "    </tr>\n",
       "    <tr>\n",
       "      <th>166</th>\n",
       "      <td>20020922</td>\n",
       "      <td>SC asks state govt to explain custody deaths</td>\n",
       "      <td>kolkata</td>\n",
       "    </tr>\n",
       "    <tr>\n",
       "      <th>167</th>\n",
       "      <td>20021009</td>\n",
       "      <td>State cabinet to be expanded on Oct 11</td>\n",
       "      <td>lucknow</td>\n",
       "    </tr>\n",
       "  </tbody>\n",
       "</table>\n",
       "<p>168 rows × 3 columns</p>\n",
       "</div>"
      ],
      "text/plain": [
       "         Date                                               News  City_Name\n",
       "0    20010110           Fend for yourselves; Pande tells doctors      patna\n",
       "1    20010309  Maneka asks govt to take back land for cow she...      delhi\n",
       "2    20010522                              She turned and fought       pune\n",
       "3    20010527              Need to boost exports; says bank head  bengaluru\n",
       "4    20010529        US visit won't be piece of cake for Krishna  bengaluru\n",
       "..        ...                                                ...        ...\n",
       "163  20020827                      Saki haunts night safari plan  hyderabad\n",
       "164  20020909     Rs 1.33 lakh stolen from Ahmedabad post office  ahmedabad\n",
       "165  20020911        NGO opposes duty waiver on Sachin's Ferrari     mumbai\n",
       "166  20020922       SC asks state govt to explain custody deaths    kolkata\n",
       "167  20021009             State cabinet to be expanded on Oct 11    lucknow\n",
       "\n",
       "[168 rows x 3 columns]"
      ]
     },
     "execution_count": 86,
     "metadata": {},
     "output_type": "execute_result"
    }
   ],
   "source": [
    "city_split = pd.DataFrame(columns=['City_Name'])\n",
    "city_split['City_Name'] = city_data.Category.str.split('.',expand=True)[1]\n",
    "city_data = pd.concat([city_data,city_split],axis=1)\n",
    "city_data.drop(columns=['Category'],axis=1, inplace=True)\n",
    "city_data.reset_index(inplace=True)\n",
    "city_data.drop(['level_0','index'],axis=1, inplace=True)\n",
    "city_data"
   ]
  },
  {
   "cell_type": "markdown",
   "metadata": {},
   "source": [
    "## Preprocessing - Coneverting the 'Date' columns to Datetime"
   ]
  },
  {
   "cell_type": "code",
   "execution_count": 87,
   "metadata": {},
   "outputs": [
    {
     "data": {
      "text/html": [
       "<div>\n",
       "<style scoped>\n",
       "    .dataframe tbody tr th:only-of-type {\n",
       "        vertical-align: middle;\n",
       "    }\n",
       "\n",
       "    .dataframe tbody tr th {\n",
       "        vertical-align: top;\n",
       "    }\n",
       "\n",
       "    .dataframe thead th {\n",
       "        text-align: right;\n",
       "    }\n",
       "</style>\n",
       "<table border=\"1\" class=\"dataframe\">\n",
       "  <thead>\n",
       "    <tr style=\"text-align: right;\">\n",
       "      <th></th>\n",
       "      <th>Date</th>\n",
       "      <th>Open</th>\n",
       "      <th>High</th>\n",
       "      <th>Low</th>\n",
       "      <th>Close</th>\n",
       "      <th>Adj Close</th>\n",
       "      <th>Volume</th>\n",
       "    </tr>\n",
       "  </thead>\n",
       "  <tbody>\n",
       "    <tr>\n",
       "      <th>0</th>\n",
       "      <td>2017-03-01</td>\n",
       "      <td>26.010000</td>\n",
       "      <td>26.379999</td>\n",
       "      <td>25.860001</td>\n",
       "      <td>25.900000</td>\n",
       "      <td>24.324486</td>\n",
       "      <td>55900</td>\n",
       "    </tr>\n",
       "    <tr>\n",
       "      <th>1</th>\n",
       "      <td>2017-03-02</td>\n",
       "      <td>25.830000</td>\n",
       "      <td>25.920000</td>\n",
       "      <td>25.660000</td>\n",
       "      <td>25.770000</td>\n",
       "      <td>24.202393</td>\n",
       "      <td>41800</td>\n",
       "    </tr>\n",
       "    <tr>\n",
       "      <th>2</th>\n",
       "      <td>2017-03-03</td>\n",
       "      <td>25.780001</td>\n",
       "      <td>26.070000</td>\n",
       "      <td>25.459999</td>\n",
       "      <td>25.780001</td>\n",
       "      <td>24.211786</td>\n",
       "      <td>70400</td>\n",
       "    </tr>\n",
       "    <tr>\n",
       "      <th>3</th>\n",
       "      <td>2017-03-06</td>\n",
       "      <td>25.680000</td>\n",
       "      <td>25.889999</td>\n",
       "      <td>25.440001</td>\n",
       "      <td>25.830000</td>\n",
       "      <td>24.258745</td>\n",
       "      <td>42600</td>\n",
       "    </tr>\n",
       "    <tr>\n",
       "      <th>4</th>\n",
       "      <td>2017-03-07</td>\n",
       "      <td>25.700001</td>\n",
       "      <td>25.879999</td>\n",
       "      <td>25.549999</td>\n",
       "      <td>25.840000</td>\n",
       "      <td>24.268139</td>\n",
       "      <td>45600</td>\n",
       "    </tr>\n",
       "    <tr>\n",
       "      <th>...</th>\n",
       "      <td>...</td>\n",
       "      <td>...</td>\n",
       "      <td>...</td>\n",
       "      <td>...</td>\n",
       "      <td>...</td>\n",
       "      <td>...</td>\n",
       "      <td>...</td>\n",
       "    </tr>\n",
       "    <tr>\n",
       "      <th>1253</th>\n",
       "      <td>2022-02-18</td>\n",
       "      <td>49.080002</td>\n",
       "      <td>49.950001</td>\n",
       "      <td>48.669998</td>\n",
       "      <td>49.500000</td>\n",
       "      <td>49.500000</td>\n",
       "      <td>130500</td>\n",
       "    </tr>\n",
       "    <tr>\n",
       "      <th>1254</th>\n",
       "      <td>2022-02-22</td>\n",
       "      <td>49.080002</td>\n",
       "      <td>50.540001</td>\n",
       "      <td>48.970001</td>\n",
       "      <td>49.490002</td>\n",
       "      <td>49.490002</td>\n",
       "      <td>107200</td>\n",
       "    </tr>\n",
       "    <tr>\n",
       "      <th>1255</th>\n",
       "      <td>2022-02-23</td>\n",
       "      <td>50.099998</td>\n",
       "      <td>50.320000</td>\n",
       "      <td>49.049999</td>\n",
       "      <td>49.480000</td>\n",
       "      <td>49.480000</td>\n",
       "      <td>125300</td>\n",
       "    </tr>\n",
       "    <tr>\n",
       "      <th>1256</th>\n",
       "      <td>2022-02-24</td>\n",
       "      <td>48.349998</td>\n",
       "      <td>49.709999</td>\n",
       "      <td>47.070000</td>\n",
       "      <td>48.980000</td>\n",
       "      <td>48.980000</td>\n",
       "      <td>189600</td>\n",
       "    </tr>\n",
       "    <tr>\n",
       "      <th>1257</th>\n",
       "      <td>2022-02-25</td>\n",
       "      <td>49.310001</td>\n",
       "      <td>50.369999</td>\n",
       "      <td>47.529999</td>\n",
       "      <td>50.340000</td>\n",
       "      <td>50.340000</td>\n",
       "      <td>136900</td>\n",
       "    </tr>\n",
       "  </tbody>\n",
       "</table>\n",
       "<p>1258 rows × 7 columns</p>\n",
       "</div>"
      ],
      "text/plain": [
       "           Date       Open       High        Low      Close  Adj Close  Volume\n",
       "0    2017-03-01  26.010000  26.379999  25.860001  25.900000  24.324486   55900\n",
       "1    2017-03-02  25.830000  25.920000  25.660000  25.770000  24.202393   41800\n",
       "2    2017-03-03  25.780001  26.070000  25.459999  25.780001  24.211786   70400\n",
       "3    2017-03-06  25.680000  25.889999  25.440001  25.830000  24.258745   42600\n",
       "4    2017-03-07  25.700001  25.879999  25.549999  25.840000  24.268139   45600\n",
       "...         ...        ...        ...        ...        ...        ...     ...\n",
       "1253 2022-02-18  49.080002  49.950001  48.669998  49.500000  49.500000  130500\n",
       "1254 2022-02-22  49.080002  50.540001  48.970001  49.490002  49.490002  107200\n",
       "1255 2022-02-23  50.099998  50.320000  49.049999  49.480000  49.480000  125300\n",
       "1256 2022-02-24  48.349998  49.709999  47.070000  48.980000  48.980000  189600\n",
       "1257 2022-02-25  49.310001  50.369999  47.529999  50.340000  50.340000  136900\n",
       "\n",
       "[1258 rows x 7 columns]"
      ]
     },
     "execution_count": 87,
     "metadata": {},
     "output_type": "execute_result"
    }
   ],
   "source": [
    "df_news['Date'] = pd.to_datetime(df_news['Date'], format='%Y%m%d')\n",
    "df_prices['Date'] = pd.to_datetime(df_prices.Date, format='%Y-%m-%d')\n",
    "df_prices"
   ]
  },
  {
   "cell_type": "markdown",
   "metadata": {},
   "source": [
    "## Plotting the Data "
   ]
  },
  {
   "cell_type": "code",
   "execution_count": 88,
   "metadata": {},
   "outputs": [
    {
     "data": {
      "text/plain": [
       "[<matplotlib.lines.Line2D at 0x7f90fdbb78e0>]"
      ]
     },
     "execution_count": 88,
     "metadata": {},
     "output_type": "execute_result"
    },
    {
     "data": {
      "image/png": "[encoded data removed]",
      "text/plain": [
       "<Figure size 1152x576 with 1 Axes>"
      ]
     },
     "metadata": {
      "needs_background": "light"
     },
     "output_type": "display_data"
    }
   ],
   "source": [
    "plt.figure(figsize=(16,8))\n",
    "plt.title('Close Price history\\n')\n",
    "plt.xlabel('Time (Year)')\n",
    "plt.ylabel('Close Price')\n",
    "plt.plot(df_prices['Close'])"
   ]
  },
  {
   "cell_type": "markdown",
   "metadata": {},
   "source": [
    "## Storing Closing Stock"
   ]
  },
  {
   "cell_type": "code",
   "execution_count": 89,
   "metadata": {},
   "outputs": [],
   "source": [
    "def new_dataset(df_prices2, look_back=1):\n",
    "    dataX, dataY = [], []\n",
    "    for i in range(len(df_prices2)-look_back):\n",
    "        a = df_prices2[i:(i+look_back), 0]\n",
    "        dataX.append(a)\n",
    "        dataY.append(df_prices2[i + look_back, 0])\n",
    "    return np.array(dataX), np.array(dataY)\n",
    "\n",
    "df2 = pd.read_csv('Datasets/stockprices.csv', usecols=[5], engine='python')\n",
    "df2.dropna(inplace=True)\n",
    "df2 = df2.values\n",
    "df2 = df2.astype('float32')"
   ]
  },
  {
   "cell_type": "markdown",
   "metadata": {},
   "source": [
    "## Data Normalization"
   ]
  },
  {
   "cell_type": "code",
   "execution_count": 90,
   "metadata": {},
   "outputs": [],
   "source": [
    "scaler = MinMaxScaler(feature_range=(0, 1))\n",
    "df2 = scaler.fit_transform(df2)\n",
    "\n",
    "train_size = int(len(df2) * 0.80)\n",
    "test_size = len(df2) - train_size\n",
    "train, test = df2[0:train_size,:], df2[train_size:len(df2),:]\n",
    "\n",
    "look_back = 2\n",
    "trainX, trainY = new_dataset(train, look_back)\n",
    "testX, testY = new_dataset(test, look_back)\n",
    "\n",
    "trainX = np.reshape(trainX, (trainX.shape[0], trainX.shape[1], 1))\n",
    "testX = np.reshape(testX, (testX.shape[0], testX.shape[1], 1))"
   ]
  },
  {
   "cell_type": "markdown",
   "metadata": {},
   "source": [
    "## LSTM Neural Network Model for Numerical Analysis"
   ]
  },
  {
   "cell_type": "code",
   "execution_count": 91,
   "metadata": {},
   "outputs": [
    {
     "name": "stdout",
     "output_type": "stream",
     "text": [
      "Epoch 1/10\n",
      "101/101 - 1s - loss: 0.0169 - 1s/epoch - 13ms/step\n",
      "Epoch 2/10\n",
      "101/101 - 0s - loss: 0.0052 - 131ms/epoch - 1ms/step\n",
      "Epoch 3/10\n",
      "101/101 - 0s - loss: 0.0041 - 139ms/epoch - 1ms/step\n",
      "Epoch 4/10\n",
      "101/101 - 0s - loss: 0.0030 - 138ms/epoch - 1ms/step\n",
      "Epoch 5/10\n",
      "101/101 - 0s - loss: 0.0019 - 135ms/epoch - 1ms/step\n",
      "Epoch 6/10\n",
      "101/101 - 0s - loss: 0.0011 - 136ms/epoch - 1ms/step\n",
      "Epoch 7/10\n",
      "101/101 - 0s - loss: 5.0404e-04 - 138ms/epoch - 1ms/step\n",
      "Epoch 8/10\n",
      "101/101 - 0s - loss: 2.4306e-04 - 182ms/epoch - 2ms/step\n",
      "Epoch 9/10\n",
      "101/101 - 0s - loss: 1.5995e-04 - 180ms/epoch - 2ms/step\n",
      "Epoch 10/10\n",
      "101/101 - 0s - loss: 1.4305e-04 - 155ms/epoch - 2ms/step\n"
     ]
    },
    {
     "data": {
      "text/plain": [
       "<keras.callbacks.History at 0x7f910ffeb3d0>"
      ]
     },
     "execution_count": 91,
     "metadata": {},
     "output_type": "execute_result"
    }
   ],
   "source": [
    "model = Sequential()\n",
    "model.add(LSTM(7, input_shape=(look_back, 1)))\n",
    "model.add(Dense(1))\n",
    "model.compile(loss='mean_squared_error', optimizer='adam')\n",
    "model.fit(trainX, trainY, epochs=10, batch_size=10, verbose=2)"
   ]
  },
  {
   "cell_type": "markdown",
   "metadata": {},
   "source": [
    "<h2><h2>"
   ]
  },
  {
   "cell_type": "markdown",
   "metadata": {},
   "source": [
    "### The Model is now ready to make predictions."
   ]
  },
  {
   "cell_type": "markdown",
   "metadata": {},
   "source": [
    "## Making Predictions."
   ]
  },
  {
   "cell_type": "code",
   "execution_count": 92,
   "metadata": {},
   "outputs": [],
   "source": [
    "trainPredict = model.predict(trainX)\n",
    "testPredict = model.predict(testX)\n",
    "\n",
    "trainPredict = scaler.inverse_transform(trainPredict)\n",
    "trainY = scaler.inverse_transform([trainY])\n",
    "testPredict = scaler.inverse_transform(testPredict)\n",
    "testY = scaler.inverse_transform([testY])"
   ]
  },
  {
   "cell_type": "markdown",
   "metadata": {},
   "source": [
    "### We Need to Plot the Predictions."
   ]
  },
  {
   "cell_type": "markdown",
   "metadata": {},
   "source": [
    "## Shifting Train Predictions."
   ]
  },
  {
   "cell_type": "code",
   "execution_count": 93,
   "metadata": {},
   "outputs": [],
   "source": [
    "trainPredictPlot = np.empty_like(df2)\n",
    "trainPredictPlot[:, :] = np.nan\n",
    "trainPredictPlot[look_back:len(trainPredict)+look_back, :] = trainPredict"
   ]
  },
  {
   "cell_type": "markdown",
   "metadata": {},
   "source": [
    "## Shifting Test Predictions."
   ]
  },
  {
   "cell_type": "code",
   "execution_count": 94,
   "metadata": {},
   "outputs": [],
   "source": [
    "testPredictPlot = np.empty_like(df2)\n",
    "testPredictPlot[:, :] = np.nan\n",
    "testPredictPlot[len(trainPredict)+(look_back*2):len(df2), :] = testPredict"
   ]
  },
  {
   "cell_type": "markdown",
   "metadata": {},
   "source": [
    "## Plotting the Data"
   ]
  },
  {
   "cell_type": "code",
   "execution_count": 95,
   "metadata": {},
   "outputs": [
    {
     "data": {
      "image/png": "[encoded data removed]",
      "text/plain": [
       "<Figure size 1152x576 with 1 Axes>"
      ]
     },
     "metadata": {
      "needs_background": "light"
     },
     "output_type": "display_data"
    }
   ],
   "source": [
    "plt.figure(figsize=(16,8))\n",
    "plt.plot(scaler.inverse_transform(df2), label = 'Actual Data')\n",
    "plt.title('BSE Stock Price Prediction from last 5 years Data')\n",
    "plt.xlabel('Time')\n",
    "plt.ylabel('Actual Stock Price')\n",
    "plt.plot(trainPredictPlot,color='#DE3163', label = 'Train Predicted Data')\n",
    "plt.plot(testPredictPlot, color='#29c714', label = 'Test Predicted Data')\n",
    "plt.legend(loc='best')\n",
    "plt.show()"
   ]
  },
  {
   "cell_type": "markdown",
   "metadata": {},
   "source": [
    "## Root Mean Square Error"
   ]
  },
  {
   "cell_type": "code",
   "execution_count": 96,
   "metadata": {},
   "outputs": [
    {
     "name": "stdout",
     "output_type": "stream",
     "text": [
      "Training  =  0.6225285820409058  RMSE\n",
      "Testing =  2.907999748109104  RMSE\n"
     ]
    }
   ],
   "source": [
    "trainScore = math.sqrt(mean_squared_error(trainY[0], trainPredict[:,0]))\n",
    "print(\"Training  = \",trainScore,\" RMSE\")\n",
    "testScore = math.sqrt(mean_squared_error(testY[0], testPredict[:,0]))\n",
    "print(\"Testing = \",testScore,\" RMSE\")"
   ]
  },
  {
   "cell_type": "markdown",
   "metadata": {},
   "source": [
    "<hr>"
   ]
  },
  {
   "cell_type": "markdown",
   "metadata": {},
   "source": [
    "# Textual Analysis"
   ]
  },
  {
   "cell_type": "markdown",
   "metadata": {},
   "source": [
    "<h2><h2>"
   ]
  },
  {
   "cell_type": "markdown",
   "metadata": {},
   "source": [
    "## Headline text (News Headline) Per City"
   ]
  },
  {
   "cell_type": "code",
   "execution_count": 97,
   "metadata": {},
   "outputs": [
    {
     "data": {
      "text/html": [
       "<div>\n",
       "<style scoped>\n",
       "    .dataframe tbody tr th:only-of-type {\n",
       "        vertical-align: middle;\n",
       "    }\n",
       "\n",
       "    .dataframe tbody tr th {\n",
       "        vertical-align: top;\n",
       "    }\n",
       "\n",
       "    .dataframe thead th {\n",
       "        text-align: right;\n",
       "    }\n",
       "</style>\n",
       "<table border=\"1\" class=\"dataframe\">\n",
       "  <thead>\n",
       "    <tr style=\"text-align: right;\">\n",
       "      <th></th>\n",
       "      <th>Number_of_headline_text</th>\n",
       "    </tr>\n",
       "    <tr>\n",
       "      <th>City_Name</th>\n",
       "      <th></th>\n",
       "    </tr>\n",
       "  </thead>\n",
       "  <tbody>\n",
       "    <tr>\n",
       "      <th>bengaluru</th>\n",
       "      <td>29</td>\n",
       "    </tr>\n",
       "    <tr>\n",
       "      <th>lucknow</th>\n",
       "      <td>21</td>\n",
       "    </tr>\n",
       "    <tr>\n",
       "      <th>patna</th>\n",
       "      <td>19</td>\n",
       "    </tr>\n",
       "    <tr>\n",
       "      <th>hyderabad</th>\n",
       "      <td>18</td>\n",
       "    </tr>\n",
       "    <tr>\n",
       "      <th>ahmedabad</th>\n",
       "      <td>17</td>\n",
       "    </tr>\n",
       "    <tr>\n",
       "      <th>pune</th>\n",
       "      <td>16</td>\n",
       "    </tr>\n",
       "    <tr>\n",
       "      <th>mumbai</th>\n",
       "      <td>15</td>\n",
       "    </tr>\n",
       "    <tr>\n",
       "      <th>kolkata</th>\n",
       "      <td>12</td>\n",
       "    </tr>\n",
       "    <tr>\n",
       "      <th>delhi</th>\n",
       "      <td>8</td>\n",
       "    </tr>\n",
       "    <tr>\n",
       "      <th>chandigarh</th>\n",
       "      <td>7</td>\n",
       "    </tr>\n",
       "    <tr>\n",
       "      <th>thiruvananthapuram</th>\n",
       "      <td>6</td>\n",
       "    </tr>\n",
       "  </tbody>\n",
       "</table>\n",
       "</div>"
      ],
      "text/plain": [
       "                    Number_of_headline_text\n",
       "City_Name                                  \n",
       "bengaluru                                29\n",
       "lucknow                                  21\n",
       "patna                                    19\n",
       "hyderabad                                18\n",
       "ahmedabad                                17\n",
       "pune                                     16\n",
       "mumbai                                   15\n",
       "kolkata                                  12\n",
       "delhi                                     8\n",
       "chandigarh                                7\n",
       "thiruvananthapuram                        6"
      ]
     },
     "execution_count": 97,
     "metadata": {},
     "output_type": "execute_result"
    }
   ],
   "source": [
    "city_headline = city_data.groupby(['City_Name']).agg({'News':'count'})\n",
    "city_headline.rename(columns={'News':'Number_of_headline_text'},inplace=True)\n",
    "city_headline = city_headline.sort_values(by='Number_of_headline_text',ascending=False)\n",
    "top_15_headline_city = city_headline.head(15)\n",
    "top_15_headline_city"
   ]
  },
  {
   "cell_type": "markdown",
   "metadata": {},
   "source": [
    "## Top 15 Cities which have high number of headline text"
   ]
  },
  {
   "cell_type": "code",
   "execution_count": 98,
   "metadata": {},
   "outputs": [
    {
     "data": {
      "image/png": "[encoded data removed]",
      "text/plain": [
       "<Figure size 1152x576 with 1 Axes>"
      ]
     },
     "metadata": {
      "needs_background": "light"
     },
     "output_type": "display_data"
    }
   ],
   "source": [
    "plt.figure(figsize=(16,8))\n",
    "plt.bar(top_15_headline_city.index,height=top_15_headline_city['Number_of_headline_text'])\n",
    "plt.xticks(rotation = 45)\n",
    "plt.xlabel('City Name',fontsize=18)\n",
    "plt.ylabel('Number of recorded articles',fontsize=18)\n",
    "plt.title('Number of articles per city\\n',fontsize=24, fontweight='bold')\n",
    "plt.show()"
   ]
  }
 ],
 "metadata": {
  "interpreter": {
   "hash": "38d51dd8e8d25c2b4859ddf5fde4d8615b38902fd48d30a19bf46ddb81d406a6"
  },
  "kernelspec": {
   "display_name": "Python 3.9.10 64-bit (windows store)",
   "language": "python",
   "name": "python3"
  },
  "language_info": {
   "codemirror_mode": {
    "name": "ipython",
    "version": 3
   },
   "file_extension": ".py",
   "mimetype": "text/x-python",
   "name": "python",
   "nbconvert_exporter": "python",
   "pygments_lexer": "ipython3",
   "version": "3.8.10"
  },
  "orig_nbformat": 4
 },
 "nbformat": 4,
 "nbformat_minor": 2
}
